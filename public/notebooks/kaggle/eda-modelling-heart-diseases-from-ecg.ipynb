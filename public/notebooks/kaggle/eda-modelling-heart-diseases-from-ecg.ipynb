{
 "cells": [
  {
   "cell_type": "markdown",
   "metadata": {},
   "source": [
    "# Context\n",
    "## ECG Heartbeat Categorization Dataset\n",
    "## Abstract\n",
    "This dataset is composed of two collections of heartbeat signals derived from two famous datasets in heartbeat classification, the MIT-BIH Arrhythmia Dataset and The PTB Diagnostic ECG Database. The number of samples in both collections is large enough for training a deep neural network.\n",
    "\n",
    "This dataset has been used in exploring heartbeat classification using deep neural network architectures, and observing some of the capabilities of transfer learning on it. The signals correspond to electrocardiogram (ECG) shapes of heartbeats for the normal case and the cases affected by different arrhythmias and myocardial infarction. These signals are preprocessed and segmented, with each segment corresponding to a heartbeat.\n",
    "\n",
    "## Content\n",
    "- Arrhythmia Dataset\n",
    "- Number of Samples: 109446\n",
    "- Number of Categories: 5\n",
    "- Sampling Frequency: 125Hz\n",
    "- Data Source: Physionet's MIT-BIH Arrhythmia Dataset\n",
    "- Classes: ['N': 0, 'S': 1, 'V': 2, 'F': 3, 'Q': 4]\n",
    "- The PTB Diagnostic ECG Database\n",
    "- Number of Samples: 14552\n",
    "- Number of Categories: 2\n",
    "- Sampling Frequency: 125Hz\n",
    "- Data Source: Physionet's PTB Diagnostic Database\n",
    "- Remark: All the samples are cropped, downsampled and padded with zeroes if necessary to the fixed dimension of 188.\n",
    "\n",
    "## Data Files\n",
    "This dataset consists of a series of CSV files. Each of these CSV files contain a matrix, with each row representing an example in that portion of the dataset. The final element of each row denotes the class to which that example belongs.\n",
    "\n",
    "## Acknowledgements\n",
    "Mohammad Kachuee, Shayan Fazeli, and Majid Sarrafzadeh. \"ECG Heartbeat Classification: A Deep Transferable Representation.\" arXiv preprint arXiv:1805.00794 (2018).\n",
    "\n",
    "## Inspiration\n",
    "Can you identify myocardial infarction?"
   ]
  },
  {
   "cell_type": "code",
   "execution_count": 1,
   "metadata": {
    "_cell_guid": "b1076dfc-b9ad-4769-8c92-a6c4dae69d19",
    "_uuid": "8f2839f25d086af736a60e9eeb907d3b93b6e0e5",
    "execution": {
     "iopub.execute_input": "2023-05-16T19:16:44.853205Z",
     "iopub.status.busy": "2023-05-16T19:16:44.852852Z",
     "iopub.status.idle": "2023-05-16T19:16:44.883710Z",
     "shell.execute_reply": "2023-05-16T19:16:44.882637Z",
     "shell.execute_reply.started": "2023-05-16T19:16:44.853120Z"
    }
   },
   "outputs": [
    {
     "name": "stdout",
     "output_type": "stream",
     "text": [
      "['ptbdb_abnormal.csv', 'ptbdb_normal.csv', 'mitbih_test.csv', 'mitbih_train.csv']\n"
     ]
    }
   ],
   "source": [
    "import math\n",
    "import random\n",
    "import pickle\n",
    "import itertools\n",
    "import numpy as np # linear algebra\n",
    "import pandas as pd # data processing, CSV file I/O (e.g. pd.read_csv)\n",
    "\n",
    "from sklearn.metrics import accuracy_score, classification_report, confusion_matrix, label_ranking_average_precision_score, label_ranking_loss, coverage_error \n",
    "from sklearn.utils import shuffle\n",
    "from scipy.signal import resample\n",
    "import matplotlib.pyplot as plt\n",
    "\n",
    "np.random.seed(42)\n",
    "\n",
    "import pickle\n",
    "from sklearn.preprocessing import OneHotEncoder\n",
    "\n",
    "# Input data files are available in the \"../input/\" directory.\n",
    "# For example, running this (by clicking run or pressing Shift+Enter) will list the files in the input directory\n",
    "\n",
    "import os\n",
    "print(os.listdir(\"../input\"))\n",
    "\n",
    "# Any results you write to the current directory are saved as output."
   ]
  },
  {
   "cell_type": "code",
   "execution_count": 2,
   "metadata": {
    "_cell_guid": "79c7e3d0-c299-4dcb-8224-4455121ee9b0",
    "_uuid": "d629ff2d2480ee46fbb7e2d37f6b5fab8052498a",
    "execution": {
     "iopub.execute_input": "2023-05-16T19:12:58.935032Z",
     "iopub.status.busy": "2023-05-16T19:12:58.934787Z",
     "iopub.status.idle": "2023-05-16T19:13:07.648712Z",
     "shell.execute_reply": "2023-05-16T19:13:07.647827Z",
     "shell.execute_reply.started": "2023-05-16T19:12:58.934987Z"
    }
   },
   "outputs": [
    {
     "name": "stdout",
     "output_type": "stream",
     "text": [
      "        0         1         2         3   ...   184  185  186  187\n",
      "0  0.977941  0.926471  0.681373  0.245098 ...   0.0  0.0  0.0  0.0\n",
      "1  0.960114  0.863248  0.461538  0.196581 ...   0.0  0.0  0.0  0.0\n",
      "2  1.000000  0.659459  0.186486  0.070270 ...   0.0  0.0  0.0  0.0\n",
      "3  0.925414  0.665746  0.541436  0.276243 ...   0.0  0.0  0.0  0.0\n",
      "4  0.967136  1.000000  0.830986  0.586854 ...   0.0  0.0  0.0  0.0\n",
      "\n",
      "[5 rows x 188 columns]\n"
     ]
    },
    {
     "data": {
      "text/html": [
       "<div>\n",
       "<style scoped>\n",
       "    .dataframe tbody tr th:only-of-type {\n",
       "        vertical-align: middle;\n",
       "    }\n",
       "\n",
       "    .dataframe tbody tr th {\n",
       "        vertical-align: top;\n",
       "    }\n",
       "\n",
       "    .dataframe thead th {\n",
       "        text-align: right;\n",
       "    }\n",
       "</style>\n",
       "<table border=\"1\" class=\"dataframe\">\n",
       "  <thead>\n",
       "    <tr style=\"text-align: right;\">\n",
       "      <th></th>\n",
       "      <th>Sample0</th>\n",
       "      <th>Sample1</th>\n",
       "      <th>Sample2</th>\n",
       "      <th>Sample3</th>\n",
       "      <th>Sample4</th>\n",
       "      <th>Sample5</th>\n",
       "      <th>Sample6</th>\n",
       "      <th>Sample7</th>\n",
       "      <th>Sample8</th>\n",
       "      <th>Sample9</th>\n",
       "      <th>Sample10</th>\n",
       "      <th>Sample11</th>\n",
       "      <th>Sample12</th>\n",
       "      <th>Sample13</th>\n",
       "      <th>Sample14</th>\n",
       "      <th>Sample15</th>\n",
       "      <th>Sample16</th>\n",
       "      <th>Sample17</th>\n",
       "      <th>Sample18</th>\n",
       "      <th>Sample19</th>\n",
       "      <th>Sample20</th>\n",
       "      <th>Sample21</th>\n",
       "      <th>Sample22</th>\n",
       "      <th>Sample23</th>\n",
       "      <th>Sample24</th>\n",
       "      <th>Sample25</th>\n",
       "      <th>Sample26</th>\n",
       "      <th>Sample27</th>\n",
       "      <th>Sample28</th>\n",
       "      <th>Sample29</th>\n",
       "      <th>Sample30</th>\n",
       "      <th>Sample31</th>\n",
       "      <th>Sample32</th>\n",
       "      <th>Sample33</th>\n",
       "      <th>Sample34</th>\n",
       "      <th>Sample35</th>\n",
       "      <th>Sample36</th>\n",
       "      <th>Sample37</th>\n",
       "      <th>Sample38</th>\n",
       "      <th>Sample39</th>\n",
       "      <th>...</th>\n",
       "      <th>Sample148</th>\n",
       "      <th>Sample149</th>\n",
       "      <th>Sample150</th>\n",
       "      <th>Sample151</th>\n",
       "      <th>Sample152</th>\n",
       "      <th>Sample153</th>\n",
       "      <th>Sample154</th>\n",
       "      <th>Sample155</th>\n",
       "      <th>Sample156</th>\n",
       "      <th>Sample157</th>\n",
       "      <th>Sample158</th>\n",
       "      <th>Sample159</th>\n",
       "      <th>Sample160</th>\n",
       "      <th>Sample161</th>\n",
       "      <th>Sample162</th>\n",
       "      <th>Sample163</th>\n",
       "      <th>Sample164</th>\n",
       "      <th>Sample165</th>\n",
       "      <th>Sample166</th>\n",
       "      <th>Sample167</th>\n",
       "      <th>Sample168</th>\n",
       "      <th>Sample169</th>\n",
       "      <th>Sample170</th>\n",
       "      <th>Sample171</th>\n",
       "      <th>Sample172</th>\n",
       "      <th>Sample173</th>\n",
       "      <th>Sample174</th>\n",
       "      <th>Sample175</th>\n",
       "      <th>Sample176</th>\n",
       "      <th>Sample177</th>\n",
       "      <th>Sample178</th>\n",
       "      <th>Sample179</th>\n",
       "      <th>Sample180</th>\n",
       "      <th>Sample181</th>\n",
       "      <th>Sample182</th>\n",
       "      <th>Sample183</th>\n",
       "      <th>Sample184</th>\n",
       "      <th>Sample185</th>\n",
       "      <th>Sample186</th>\n",
       "      <th>Label</th>\n",
       "    </tr>\n",
       "  </thead>\n",
       "  <tbody>\n",
       "    <tr>\n",
       "      <th>0</th>\n",
       "      <td>0.977941</td>\n",
       "      <td>0.926471</td>\n",
       "      <td>0.681373</td>\n",
       "      <td>0.245098</td>\n",
       "      <td>0.154412</td>\n",
       "      <td>0.191176</td>\n",
       "      <td>0.151961</td>\n",
       "      <td>0.085784</td>\n",
       "      <td>0.058824</td>\n",
       "      <td>0.049020</td>\n",
       "      <td>0.044118</td>\n",
       "      <td>0.061275</td>\n",
       "      <td>0.066176</td>\n",
       "      <td>0.061275</td>\n",
       "      <td>0.049020</td>\n",
       "      <td>0.073529</td>\n",
       "      <td>0.061275</td>\n",
       "      <td>0.061275</td>\n",
       "      <td>0.066176</td>\n",
       "      <td>0.068627</td>\n",
       "      <td>0.095588</td>\n",
       "      <td>0.075980</td>\n",
       "      <td>0.093137</td>\n",
       "      <td>0.105392</td>\n",
       "      <td>0.115196</td>\n",
       "      <td>0.102941</td>\n",
       "      <td>0.117647</td>\n",
       "      <td>0.125000</td>\n",
       "      <td>0.142157</td>\n",
       "      <td>0.127451</td>\n",
       "      <td>0.151961</td>\n",
       "      <td>0.144608</td>\n",
       "      <td>0.164216</td>\n",
       "      <td>0.144608</td>\n",
       "      <td>0.159314</td>\n",
       "      <td>0.151961</td>\n",
       "      <td>0.154412</td>\n",
       "      <td>0.142157</td>\n",
       "      <td>0.151961</td>\n",
       "      <td>0.151961</td>\n",
       "      <td>...</td>\n",
       "      <td>0.0</td>\n",
       "      <td>0.0</td>\n",
       "      <td>0.0</td>\n",
       "      <td>0.0</td>\n",
       "      <td>0.0</td>\n",
       "      <td>0.0</td>\n",
       "      <td>0.0</td>\n",
       "      <td>0.0</td>\n",
       "      <td>0.0</td>\n",
       "      <td>0.0</td>\n",
       "      <td>0.0</td>\n",
       "      <td>0.0</td>\n",
       "      <td>0.0</td>\n",
       "      <td>0.0</td>\n",
       "      <td>0.0</td>\n",
       "      <td>0.0</td>\n",
       "      <td>0.0</td>\n",
       "      <td>0.0</td>\n",
       "      <td>0.0</td>\n",
       "      <td>0.0</td>\n",
       "      <td>0.0</td>\n",
       "      <td>0.0</td>\n",
       "      <td>0.0</td>\n",
       "      <td>0.0</td>\n",
       "      <td>0.0</td>\n",
       "      <td>0.0</td>\n",
       "      <td>0.0</td>\n",
       "      <td>0.0</td>\n",
       "      <td>0.0</td>\n",
       "      <td>0.0</td>\n",
       "      <td>0.0</td>\n",
       "      <td>0.0</td>\n",
       "      <td>0.0</td>\n",
       "      <td>0.0</td>\n",
       "      <td>0.0</td>\n",
       "      <td>0.0</td>\n",
       "      <td>0.0</td>\n",
       "      <td>0.0</td>\n",
       "      <td>0.0</td>\n",
       "      <td>0.0</td>\n",
       "    </tr>\n",
       "    <tr>\n",
       "      <th>1</th>\n",
       "      <td>0.960114</td>\n",
       "      <td>0.863248</td>\n",
       "      <td>0.461538</td>\n",
       "      <td>0.196581</td>\n",
       "      <td>0.094017</td>\n",
       "      <td>0.125356</td>\n",
       "      <td>0.099715</td>\n",
       "      <td>0.088319</td>\n",
       "      <td>0.074074</td>\n",
       "      <td>0.082621</td>\n",
       "      <td>0.074074</td>\n",
       "      <td>0.062678</td>\n",
       "      <td>0.065527</td>\n",
       "      <td>0.065527</td>\n",
       "      <td>0.062678</td>\n",
       "      <td>0.076923</td>\n",
       "      <td>0.071225</td>\n",
       "      <td>0.082621</td>\n",
       "      <td>0.091168</td>\n",
       "      <td>0.096866</td>\n",
       "      <td>0.082621</td>\n",
       "      <td>0.082621</td>\n",
       "      <td>0.091168</td>\n",
       "      <td>0.105413</td>\n",
       "      <td>0.122507</td>\n",
       "      <td>0.148148</td>\n",
       "      <td>0.182336</td>\n",
       "      <td>0.193732</td>\n",
       "      <td>0.213675</td>\n",
       "      <td>0.207977</td>\n",
       "      <td>0.222222</td>\n",
       "      <td>0.253561</td>\n",
       "      <td>0.270655</td>\n",
       "      <td>0.287749</td>\n",
       "      <td>0.284900</td>\n",
       "      <td>0.293447</td>\n",
       "      <td>0.256410</td>\n",
       "      <td>0.247863</td>\n",
       "      <td>0.188034</td>\n",
       "      <td>0.145299</td>\n",
       "      <td>...</td>\n",
       "      <td>0.0</td>\n",
       "      <td>0.0</td>\n",
       "      <td>0.0</td>\n",
       "      <td>0.0</td>\n",
       "      <td>0.0</td>\n",
       "      <td>0.0</td>\n",
       "      <td>0.0</td>\n",
       "      <td>0.0</td>\n",
       "      <td>0.0</td>\n",
       "      <td>0.0</td>\n",
       "      <td>0.0</td>\n",
       "      <td>0.0</td>\n",
       "      <td>0.0</td>\n",
       "      <td>0.0</td>\n",
       "      <td>0.0</td>\n",
       "      <td>0.0</td>\n",
       "      <td>0.0</td>\n",
       "      <td>0.0</td>\n",
       "      <td>0.0</td>\n",
       "      <td>0.0</td>\n",
       "      <td>0.0</td>\n",
       "      <td>0.0</td>\n",
       "      <td>0.0</td>\n",
       "      <td>0.0</td>\n",
       "      <td>0.0</td>\n",
       "      <td>0.0</td>\n",
       "      <td>0.0</td>\n",
       "      <td>0.0</td>\n",
       "      <td>0.0</td>\n",
       "      <td>0.0</td>\n",
       "      <td>0.0</td>\n",
       "      <td>0.0</td>\n",
       "      <td>0.0</td>\n",
       "      <td>0.0</td>\n",
       "      <td>0.0</td>\n",
       "      <td>0.0</td>\n",
       "      <td>0.0</td>\n",
       "      <td>0.0</td>\n",
       "      <td>0.0</td>\n",
       "      <td>0.0</td>\n",
       "    </tr>\n",
       "    <tr>\n",
       "      <th>2</th>\n",
       "      <td>1.000000</td>\n",
       "      <td>0.659459</td>\n",
       "      <td>0.186486</td>\n",
       "      <td>0.070270</td>\n",
       "      <td>0.070270</td>\n",
       "      <td>0.059459</td>\n",
       "      <td>0.056757</td>\n",
       "      <td>0.043243</td>\n",
       "      <td>0.054054</td>\n",
       "      <td>0.045946</td>\n",
       "      <td>0.056757</td>\n",
       "      <td>0.043243</td>\n",
       "      <td>0.067568</td>\n",
       "      <td>0.062162</td>\n",
       "      <td>0.078378</td>\n",
       "      <td>0.072973</td>\n",
       "      <td>0.086486</td>\n",
       "      <td>0.081081</td>\n",
       "      <td>0.108108</td>\n",
       "      <td>0.110811</td>\n",
       "      <td>0.135135</td>\n",
       "      <td>0.135135</td>\n",
       "      <td>0.170270</td>\n",
       "      <td>0.183784</td>\n",
       "      <td>0.216216</td>\n",
       "      <td>0.237838</td>\n",
       "      <td>0.270270</td>\n",
       "      <td>0.286486</td>\n",
       "      <td>0.316216</td>\n",
       "      <td>0.318919</td>\n",
       "      <td>0.332432</td>\n",
       "      <td>0.297297</td>\n",
       "      <td>0.267568</td>\n",
       "      <td>0.216216</td>\n",
       "      <td>0.189189</td>\n",
       "      <td>0.132432</td>\n",
       "      <td>0.118919</td>\n",
       "      <td>0.064865</td>\n",
       "      <td>0.064865</td>\n",
       "      <td>0.043243</td>\n",
       "      <td>...</td>\n",
       "      <td>0.0</td>\n",
       "      <td>0.0</td>\n",
       "      <td>0.0</td>\n",
       "      <td>0.0</td>\n",
       "      <td>0.0</td>\n",
       "      <td>0.0</td>\n",
       "      <td>0.0</td>\n",
       "      <td>0.0</td>\n",
       "      <td>0.0</td>\n",
       "      <td>0.0</td>\n",
       "      <td>0.0</td>\n",
       "      <td>0.0</td>\n",
       "      <td>0.0</td>\n",
       "      <td>0.0</td>\n",
       "      <td>0.0</td>\n",
       "      <td>0.0</td>\n",
       "      <td>0.0</td>\n",
       "      <td>0.0</td>\n",
       "      <td>0.0</td>\n",
       "      <td>0.0</td>\n",
       "      <td>0.0</td>\n",
       "      <td>0.0</td>\n",
       "      <td>0.0</td>\n",
       "      <td>0.0</td>\n",
       "      <td>0.0</td>\n",
       "      <td>0.0</td>\n",
       "      <td>0.0</td>\n",
       "      <td>0.0</td>\n",
       "      <td>0.0</td>\n",
       "      <td>0.0</td>\n",
       "      <td>0.0</td>\n",
       "      <td>0.0</td>\n",
       "      <td>0.0</td>\n",
       "      <td>0.0</td>\n",
       "      <td>0.0</td>\n",
       "      <td>0.0</td>\n",
       "      <td>0.0</td>\n",
       "      <td>0.0</td>\n",
       "      <td>0.0</td>\n",
       "      <td>0.0</td>\n",
       "    </tr>\n",
       "    <tr>\n",
       "      <th>3</th>\n",
       "      <td>0.925414</td>\n",
       "      <td>0.665746</td>\n",
       "      <td>0.541436</td>\n",
       "      <td>0.276243</td>\n",
       "      <td>0.196133</td>\n",
       "      <td>0.077348</td>\n",
       "      <td>0.071823</td>\n",
       "      <td>0.060773</td>\n",
       "      <td>0.066298</td>\n",
       "      <td>0.058011</td>\n",
       "      <td>0.063536</td>\n",
       "      <td>0.082873</td>\n",
       "      <td>0.085635</td>\n",
       "      <td>0.093923</td>\n",
       "      <td>0.113260</td>\n",
       "      <td>0.124309</td>\n",
       "      <td>0.140884</td>\n",
       "      <td>0.132597</td>\n",
       "      <td>0.140884</td>\n",
       "      <td>0.091160</td>\n",
       "      <td>0.085635</td>\n",
       "      <td>0.074586</td>\n",
       "      <td>0.071823</td>\n",
       "      <td>0.080110</td>\n",
       "      <td>0.096685</td>\n",
       "      <td>0.118785</td>\n",
       "      <td>0.138122</td>\n",
       "      <td>0.140884</td>\n",
       "      <td>0.138122</td>\n",
       "      <td>0.146409</td>\n",
       "      <td>0.110497</td>\n",
       "      <td>0.102210</td>\n",
       "      <td>0.060773</td>\n",
       "      <td>0.027624</td>\n",
       "      <td>0.038674</td>\n",
       "      <td>0.013812</td>\n",
       "      <td>0.011050</td>\n",
       "      <td>0.013812</td>\n",
       "      <td>0.033149</td>\n",
       "      <td>0.005525</td>\n",
       "      <td>...</td>\n",
       "      <td>0.0</td>\n",
       "      <td>0.0</td>\n",
       "      <td>0.0</td>\n",
       "      <td>0.0</td>\n",
       "      <td>0.0</td>\n",
       "      <td>0.0</td>\n",
       "      <td>0.0</td>\n",
       "      <td>0.0</td>\n",
       "      <td>0.0</td>\n",
       "      <td>0.0</td>\n",
       "      <td>0.0</td>\n",
       "      <td>0.0</td>\n",
       "      <td>0.0</td>\n",
       "      <td>0.0</td>\n",
       "      <td>0.0</td>\n",
       "      <td>0.0</td>\n",
       "      <td>0.0</td>\n",
       "      <td>0.0</td>\n",
       "      <td>0.0</td>\n",
       "      <td>0.0</td>\n",
       "      <td>0.0</td>\n",
       "      <td>0.0</td>\n",
       "      <td>0.0</td>\n",
       "      <td>0.0</td>\n",
       "      <td>0.0</td>\n",
       "      <td>0.0</td>\n",
       "      <td>0.0</td>\n",
       "      <td>0.0</td>\n",
       "      <td>0.0</td>\n",
       "      <td>0.0</td>\n",
       "      <td>0.0</td>\n",
       "      <td>0.0</td>\n",
       "      <td>0.0</td>\n",
       "      <td>0.0</td>\n",
       "      <td>0.0</td>\n",
       "      <td>0.0</td>\n",
       "      <td>0.0</td>\n",
       "      <td>0.0</td>\n",
       "      <td>0.0</td>\n",
       "      <td>0.0</td>\n",
       "    </tr>\n",
       "    <tr>\n",
       "      <th>4</th>\n",
       "      <td>0.967136</td>\n",
       "      <td>1.000000</td>\n",
       "      <td>0.830986</td>\n",
       "      <td>0.586854</td>\n",
       "      <td>0.356808</td>\n",
       "      <td>0.248826</td>\n",
       "      <td>0.145540</td>\n",
       "      <td>0.089202</td>\n",
       "      <td>0.117371</td>\n",
       "      <td>0.150235</td>\n",
       "      <td>0.131455</td>\n",
       "      <td>0.122066</td>\n",
       "      <td>0.140845</td>\n",
       "      <td>0.159624</td>\n",
       "      <td>0.150235</td>\n",
       "      <td>0.145540</td>\n",
       "      <td>0.136150</td>\n",
       "      <td>0.169014</td>\n",
       "      <td>0.178404</td>\n",
       "      <td>0.173709</td>\n",
       "      <td>0.183099</td>\n",
       "      <td>0.201878</td>\n",
       "      <td>0.187793</td>\n",
       "      <td>0.164319</td>\n",
       "      <td>0.187793</td>\n",
       "      <td>0.215962</td>\n",
       "      <td>0.215962</td>\n",
       "      <td>0.201878</td>\n",
       "      <td>0.211268</td>\n",
       "      <td>0.230047</td>\n",
       "      <td>0.215962</td>\n",
       "      <td>0.230047</td>\n",
       "      <td>0.239437</td>\n",
       "      <td>0.267606</td>\n",
       "      <td>0.253521</td>\n",
       "      <td>0.230047</td>\n",
       "      <td>0.220657</td>\n",
       "      <td>0.225352</td>\n",
       "      <td>0.211268</td>\n",
       "      <td>0.173709</td>\n",
       "      <td>...</td>\n",
       "      <td>0.0</td>\n",
       "      <td>0.0</td>\n",
       "      <td>0.0</td>\n",
       "      <td>0.0</td>\n",
       "      <td>0.0</td>\n",
       "      <td>0.0</td>\n",
       "      <td>0.0</td>\n",
       "      <td>0.0</td>\n",
       "      <td>0.0</td>\n",
       "      <td>0.0</td>\n",
       "      <td>0.0</td>\n",
       "      <td>0.0</td>\n",
       "      <td>0.0</td>\n",
       "      <td>0.0</td>\n",
       "      <td>0.0</td>\n",
       "      <td>0.0</td>\n",
       "      <td>0.0</td>\n",
       "      <td>0.0</td>\n",
       "      <td>0.0</td>\n",
       "      <td>0.0</td>\n",
       "      <td>0.0</td>\n",
       "      <td>0.0</td>\n",
       "      <td>0.0</td>\n",
       "      <td>0.0</td>\n",
       "      <td>0.0</td>\n",
       "      <td>0.0</td>\n",
       "      <td>0.0</td>\n",
       "      <td>0.0</td>\n",
       "      <td>0.0</td>\n",
       "      <td>0.0</td>\n",
       "      <td>0.0</td>\n",
       "      <td>0.0</td>\n",
       "      <td>0.0</td>\n",
       "      <td>0.0</td>\n",
       "      <td>0.0</td>\n",
       "      <td>0.0</td>\n",
       "      <td>0.0</td>\n",
       "      <td>0.0</td>\n",
       "      <td>0.0</td>\n",
       "      <td>0.0</td>\n",
       "    </tr>\n",
       "  </tbody>\n",
       "</table>\n",
       "</div>"
      ],
      "text/plain": [
       "    Sample0   Sample1   Sample2  ...    Sample185  Sample186  Label\n",
       "0  0.977941  0.926471  0.681373  ...          0.0        0.0    0.0\n",
       "1  0.960114  0.863248  0.461538  ...          0.0        0.0    0.0\n",
       "2  1.000000  0.659459  0.186486  ...          0.0        0.0    0.0\n",
       "3  0.925414  0.665746  0.541436  ...          0.0        0.0    0.0\n",
       "4  0.967136  1.000000  0.830986  ...          0.0        0.0    0.0\n",
       "\n",
       "[5 rows x 188 columns]"
      ]
     },
     "execution_count": 2,
     "metadata": {},
     "output_type": "execute_result"
    }
   ],
   "source": [
    "train = pd.read_csv(\"../input/mitbih_train.csv\", header=None)\n",
    "test = pd.read_csv(\"../input/mitbih_test.csv\", header=None)\n",
    "df = pd.concat([train, test], axis=0)\n",
    "print(df.head())\n",
    "cols=[\"Sample{}\".format(i) for i in range(df.shape[1]-1)]\n",
    "cols.append(\"Label\")\n",
    "df.columns=cols\n",
    "df.head()"
   ]
  },
  {
   "cell_type": "code",
   "execution_count": 3,
   "metadata": {
    "_uuid": "0fac0fb658ea34b48055838b4ad85078e883360d",
    "execution": {
     "iopub.execute_input": "2023-05-16T19:13:07.650688Z",
     "iopub.status.busy": "2023-05-16T19:13:07.650292Z",
     "iopub.status.idle": "2023-05-16T19:13:07.663581Z",
     "shell.execute_reply": "2023-05-16T19:13:07.662534Z",
     "shell.execute_reply.started": "2023-05-16T19:13:07.650619Z"
    }
   },
   "outputs": [
    {
     "data": {
      "text/plain": [
       "0.0    90589\n",
       "4.0     8039\n",
       "2.0     7236\n",
       "1.0     2779\n",
       "3.0      803\n",
       "Name: Label, dtype: int64"
      ]
     },
     "execution_count": 3,
     "metadata": {},
     "output_type": "execute_result"
    }
   ],
   "source": [
    "df[\"Label\"].value_counts()"
   ]
  },
  {
   "cell_type": "markdown",
   "metadata": {
    "_uuid": "425c4b7abe39a14c6f81f8a71094cc1024276935"
   },
   "source": [
    "# Visual Input"
   ]
  },
  {
   "cell_type": "code",
   "execution_count": 4,
   "metadata": {
    "execution": {
     "iopub.execute_input": "2023-05-16T19:13:07.665151Z",
     "iopub.status.busy": "2023-05-16T19:13:07.664886Z",
     "iopub.status.idle": "2023-05-16T19:13:07.670856Z",
     "shell.execute_reply": "2023-05-16T19:13:07.669903Z",
     "shell.execute_reply.started": "2023-05-16T19:13:07.665105Z"
    }
   },
   "outputs": [],
   "source": [
    "M = df.values\n",
    "X = M[:, :-1]\n",
    "y = M[:, -1].astype(int)"
   ]
  },
  {
   "cell_type": "code",
   "execution_count": 5,
   "metadata": {
    "execution": {
     "iopub.execute_input": "2023-05-16T19:13:07.672354Z",
     "iopub.status.busy": "2023-05-16T19:13:07.672046Z",
     "iopub.status.idle": "2023-05-16T19:13:07.684163Z",
     "shell.execute_reply": "2023-05-16T19:13:07.683345Z",
     "shell.execute_reply.started": "2023-05-16T19:13:07.672289Z"
    }
   },
   "outputs": [],
   "source": [
    "C0 = np.argwhere(y == 0).flatten()\n",
    "C1 = np.argwhere(y == 1).flatten()\n",
    "C2 = np.argwhere(y == 2).flatten()\n",
    "C3 = np.argwhere(y == 3).flatten()\n",
    "C4 = np.argwhere(y == 4).flatten()"
   ]
  },
  {
   "cell_type": "code",
   "execution_count": 6,
   "metadata": {
    "execution": {
     "iopub.execute_input": "2023-05-16T19:13:13.593431Z",
     "iopub.status.busy": "2023-05-16T19:13:13.592816Z",
     "iopub.status.idle": "2023-05-16T19:13:14.242161Z",
     "shell.execute_reply": "2023-05-16T19:13:14.241422Z",
     "shell.execute_reply.started": "2023-05-16T19:13:13.593101Z"
    }
   },
   "outputs": [
    {
     "data": {
      "image/png": "[encoded data removed]",
      "text/plain": [
       "<matplotlib.figure.Figure at 0x7c4fe6064240>"
      ]
     },
     "metadata": {},
     "output_type": "display_data"
    }
   ],
   "source": [
    "x = np.arange(0, 187)*8/1000\n",
    "\n",
    "plt.figure(figsize=(20,12))\n",
    "plt.plot(x, X[C0, :][0], label=\"Cat. N\")\n",
    "plt.plot(x, X[C1, :][0], label=\"Cat. S\")\n",
    "plt.plot(x, X[C2, :][0], label=\"Cat. V\")\n",
    "plt.plot(x, X[C3, :][0], label=\"Cat. F\")\n",
    "plt.plot(x, X[C4, :][0], label=\"Cat. Q\")\n",
    "plt.legend()\n",
    "plt.title(\"1-beat ECG for every category\", fontsize=20)\n",
    "plt.ylabel(\"Amplitude\", fontsize=15)\n",
    "plt.xlabel(\"Time (ms)\", fontsize=15)\n",
    "plt.show()"
   ]
  },
  {
   "cell_type": "markdown",
   "metadata": {
    "_uuid": "c269ab78773e4b5a960a5e55d2b48c53d5f9c446"
   },
   "source": [
    "# Data augmentation\n",
    "\n",
    "To train properly the model, we sould have to augment all data to the same level. Nevertheless, for a first try, we will just augment the smallest class to the same level as class 1. With that we will be able to have a test set of around 5x800 observations."
   ]
  },
  {
   "cell_type": "code",
   "execution_count": 7,
   "metadata": {
    "_uuid": "a332bfa2765ee6f5d49320c9d8f0b9c5795a4843",
    "execution": {
     "iopub.execute_input": "2023-05-16T19:13:39.185233Z",
     "iopub.status.busy": "2023-05-16T19:13:39.184891Z",
     "iopub.status.idle": "2023-05-16T19:13:39.236869Z",
     "shell.execute_reply": "2023-05-16T19:13:39.235824Z",
     "shell.execute_reply.started": "2023-05-16T19:13:39.185169Z"
    }
   },
   "outputs": [],
   "source": [
    "def stretch(x):\n",
    "    l = int(187 * (1 + (random.random()-0.5)/3))\n",
    "    y = resample(x, l)\n",
    "    if l < 187:\n",
    "        y_ = np.zeros(shape=(187, ))\n",
    "        y_[:l] = y\n",
    "    else:\n",
    "        y_ = y[:187]\n",
    "    return y_\n",
    "\n",
    "def amplify(x):\n",
    "    alpha = (random.random()-0.5)\n",
    "    factor = -alpha*x + (1+alpha)\n",
    "    return x*factor\n",
    "\n",
    "def augment(x):\n",
    "    result = np.zeros(shape= (4, 187))\n",
    "    for i in range(3):\n",
    "        if random.random() < 0.33:\n",
    "            new_y = stretch(x)\n",
    "        elif random.random() < 0.66:\n",
    "            new_y = amplify(x)\n",
    "        else:\n",
    "            new_y = stretch(x)\n",
    "            new_y = amplify(new_y)\n",
    "        result[i, :] = new_y\n",
    "    return result"
   ]
  },
  {
   "cell_type": "code",
   "execution_count": 8,
   "metadata": {
    "_uuid": "8673145476e0307f487a502e3590b76f2589acef",
    "execution": {
     "iopub.execute_input": "2023-05-16T19:13:41.019506Z",
     "iopub.status.busy": "2023-05-16T19:13:41.019095Z",
     "iopub.status.idle": "2023-05-16T19:13:41.238512Z",
     "shell.execute_reply": "2023-05-16T19:13:41.237238Z",
     "shell.execute_reply.started": "2023-05-16T19:13:41.019425Z"
    }
   },
   "outputs": [
    {
     "data": {
      "image/png": "[encoded data removed]",
      "text/plain": [
       "<matplotlib.figure.Figure at 0x7c4fe60223c8>"
      ]
     },
     "metadata": {},
     "output_type": "display_data"
    }
   ],
   "source": [
    "plt.plot(X[0, :])\n",
    "plt.plot(amplify(X[0, :]))\n",
    "plt.plot(stretch(X[0, :]))\n",
    "plt.show()"
   ]
  },
  {
   "cell_type": "code",
   "execution_count": 9,
   "metadata": {
    "_uuid": "43f671858db58465b14b7fd7656ffa8381f7ea86",
    "execution": {
     "iopub.execute_input": "2023-05-16T19:13:43.609031Z",
     "iopub.status.busy": "2023-05-16T19:13:43.608393Z",
     "iopub.status.idle": "2023-05-16T19:13:43.898635Z",
     "shell.execute_reply": "2023-05-16T19:13:43.897648Z",
     "shell.execute_reply.started": "2023-05-16T19:13:43.608975Z"
    }
   },
   "outputs": [],
   "source": [
    "result = np.apply_along_axis(augment, axis=1, arr=X[C3]).reshape(-1, 187)\n",
    "classe = np.ones(shape=(result.shape[0],), dtype=int)*3\n",
    "X = np.vstack([X, result])\n",
    "y = np.hstack([y, classe])"
   ]
  },
  {
   "cell_type": "markdown",
   "metadata": {
    "_uuid": "c42605d020fd51885437f4af3cf10cebbeafc9bb"
   },
   "source": [
    "# Split"
   ]
  },
  {
   "cell_type": "code",
   "execution_count": 10,
   "metadata": {
    "execution": {
     "iopub.execute_input": "2023-05-16T19:15:22.121878Z",
     "iopub.status.busy": "2023-05-16T19:15:22.121174Z",
     "iopub.status.idle": "2023-05-16T19:15:22.405057Z",
     "shell.execute_reply": "2023-05-16T19:15:22.403723Z",
     "shell.execute_reply.started": "2023-05-16T19:15:22.121818Z"
    }
   },
   "outputs": [
    {
     "data": {
      "image/png": "[encoded data removed]",
      "text/plain": [
       "<matplotlib.figure.Figure at 0x7c4fe6004080>"
      ]
     },
     "metadata": {},
     "output_type": "display_data"
    }
   ],
   "source": [
    "target_dist = df['Label'].value_counts()\n",
    "\n",
    "fig, ax = plt.subplots(1, 1, figsize=(8,5))\n",
    "\n",
    "barplot = plt.bar(target_dist.index, target_dist, color = 'lightgreen', alpha = 0.8)\n",
    "barplot[1].set_color('darkred')\n",
    "barplot[2].set_color('blue')\n",
    "barplot[3].set_color('yellow')\n",
    "barplot[4].set_color('orange')\n",
    "\n",
    "ax.set_title('Target Distribution')\n",
    "percentage = df['Label'].value_counts(normalize=True)[0]*100\n",
    "ax.annotate(\"percentage of Alive Patients : {}%\".format(percentage),\n",
    "              xy=(0, 0),xycoords='axes fraction', \n",
    "              xytext=(0,-50), textcoords='offset points',\n",
    "              va=\"top\", ha=\"left\", color='grey',\n",
    "              bbox=dict(boxstyle='round', fc=\"w\", ec='w'))\n",
    "\n",
    "plt.xlabel('Target', fontsize = 12, weight = 'bold')\n",
    "plt.show()"
   ]
  },
  {
   "cell_type": "code",
   "execution_count": 11,
   "metadata": {
    "_uuid": "c136b567ed0cf450ed0476464c3b59d1ff1bb032",
    "execution": {
     "iopub.execute_input": "2023-05-16T19:13:45.541496Z",
     "iopub.status.busy": "2023-05-16T19:13:45.541097Z",
     "iopub.status.idle": "2023-05-16T19:13:45.549861Z",
     "shell.execute_reply": "2023-05-16T19:13:45.548936Z",
     "shell.execute_reply.started": "2023-05-16T19:13:45.541426Z"
    }
   },
   "outputs": [],
   "source": [
    "subC0 = np.random.choice(C0, 800)\n",
    "subC1 = np.random.choice(C1, 800)\n",
    "subC2 = np.random.choice(C2, 800)\n",
    "subC3 = np.random.choice(C3, 800)\n",
    "subC4 = np.random.choice(C4, 800)"
   ]
  },
  {
   "cell_type": "code",
   "execution_count": 12,
   "metadata": {
    "_uuid": "52573d0c3a715cd693e682227d01f5a73549e421",
    "execution": {
     "iopub.execute_input": "2023-05-16T19:13:48.339385Z",
     "iopub.status.busy": "2023-05-16T19:13:48.339061Z",
     "iopub.status.idle": "2023-05-16T19:13:48.682159Z",
     "shell.execute_reply": "2023-05-16T19:13:48.681359Z",
     "shell.execute_reply.started": "2023-05-16T19:13:48.339343Z"
    }
   },
   "outputs": [],
   "source": [
    "X_test = np.vstack([X[subC0], X[subC1], X[subC2], X[subC3], X[subC4]])\n",
    "y_test = np.hstack([y[subC0], y[subC1], y[subC2], y[subC3], y[subC4]])\n",
    "\n",
    "X_train = np.delete(X, [subC0, subC1, subC2, subC3, subC4], axis=0)\n",
    "y_train = np.delete(y, [subC0, subC1, subC2, subC3, subC4], axis=0)\n",
    "\n",
    "X_train, y_train = shuffle(X_train, y_train, random_state=0)\n",
    "X_test, y_test = shuffle(X_test, y_test, random_state=0)\n",
    "\n",
    "del X\n",
    "del y"
   ]
  },
  {
   "cell_type": "code",
   "execution_count": 13,
   "metadata": {
    "_uuid": "7ae5108c9741b85f0f599cce51daf99df4733ed1",
    "execution": {
     "iopub.execute_input": "2023-05-16T19:13:48.683552Z",
     "iopub.status.busy": "2023-05-16T19:13:48.683124Z",
     "iopub.status.idle": "2023-05-16T19:13:48.687751Z",
     "shell.execute_reply": "2023-05-16T19:13:48.687114Z",
     "shell.execute_reply.started": "2023-05-16T19:13:48.683505Z"
    }
   },
   "outputs": [],
   "source": [
    "X_train = np.expand_dims(X_train, 2)\n",
    "X_test = np.expand_dims(X_test, 2)"
   ]
  },
  {
   "cell_type": "code",
   "execution_count": 14,
   "metadata": {
    "_uuid": "cbd350e57b2a44b4bf6a79f02c32dabb803e4855",
    "execution": {
     "iopub.execute_input": "2023-05-16T19:13:49.466451Z",
     "iopub.status.busy": "2023-05-16T19:13:49.465849Z",
     "iopub.status.idle": "2023-05-16T19:13:49.474703Z",
     "shell.execute_reply": "2023-05-16T19:13:49.473810Z",
     "shell.execute_reply.started": "2023-05-16T19:13:49.466395Z"
    }
   },
   "outputs": [
    {
     "name": "stdout",
     "output_type": "stream",
     "text": [
      "X_train (109150, 187, 1)\n",
      "y_train (109150,)\n",
      "X_test (4000, 187, 1)\n",
      "y_test (4000,)\n"
     ]
    }
   ],
   "source": [
    "print(\"X_train\", X_train.shape)\n",
    "print(\"y_train\", y_train.shape)\n",
    "print(\"X_test\", X_test.shape)\n",
    "print(\"y_test\", y_test.shape)"
   ]
  },
  {
   "cell_type": "code",
   "execution_count": 15,
   "metadata": {
    "_uuid": "5ddf1e7b397de3c413fc991945d2d7f09df67da1",
    "execution": {
     "iopub.execute_input": "2023-05-16T19:15:32.233626Z",
     "iopub.status.busy": "2023-05-16T19:15:32.233247Z",
     "iopub.status.idle": "2023-05-16T19:15:32.267315Z",
     "shell.execute_reply": "2023-05-16T19:15:32.266420Z",
     "shell.execute_reply.started": "2023-05-16T19:15:32.233550Z"
    }
   },
   "outputs": [
    {
     "name": "stderr",
     "output_type": "stream",
     "text": [
      "/opt/conda/lib/python3.6/site-packages/sklearn/preprocessing/_encoders.py:405: FutureWarning: The handling of integer data will change in version 0.22. Currently, the categories are determined based on the range [0, max(values)], while in the future they will be determined based on the unique values.\n",
      "If you want the future behaviour and silence this warning, you can specify \"categories='auto'\".\n",
      "In case you used a LabelEncoder before this OneHotEncoder to convert the categories to integers, then you can now use the OneHotEncoder directly.\n",
      "  warnings.warn(msg, FutureWarning)\n"
     ]
    }
   ],
   "source": [
    "ohe = OneHotEncoder()\n",
    "y_train = ohe.fit_transform(y_train.reshape(-1,1))\n",
    "y_test = ohe.transform(y_test.reshape(-1,1))"
   ]
  },
  {
   "cell_type": "code",
   "execution_count": 16,
   "metadata": {
    "_uuid": "16c106c2702045790367fc49d7223560fc613d75",
    "execution": {
     "iopub.execute_input": "2023-05-16T19:15:34.266505Z",
     "iopub.status.busy": "2023-05-16T19:15:34.265856Z",
     "iopub.status.idle": "2023-05-16T19:15:34.274680Z",
     "shell.execute_reply": "2023-05-16T19:15:34.273805Z",
     "shell.execute_reply.started": "2023-05-16T19:15:34.266450Z"
    }
   },
   "outputs": [
    {
     "name": "stdout",
     "output_type": "stream",
     "text": [
      "X_train (109150, 187, 1)\n",
      "y_train (109150, 5)\n",
      "X_test (4000, 187, 1)\n",
      "y_test (4000, 5)\n"
     ]
    }
   ],
   "source": [
    "print(\"X_train\", X_train.shape)\n",
    "print(\"y_train\", y_train.shape)\n",
    "print(\"X_test\", X_test.shape)\n",
    "print(\"y_test\", y_test.shape)"
   ]
  },
  {
   "cell_type": "markdown",
   "metadata": {
    "_uuid": "c4de23b85abe34a726eab268171da0e827bafa35"
   },
   "source": [
    "# Model\n",
    "\n",
    "Now let's train our model "
   ]
  },
  {
   "cell_type": "code",
   "execution_count": 17,
   "metadata": {
    "execution": {
     "iopub.execute_input": "2023-05-16T19:25:20.530746Z",
     "iopub.status.busy": "2023-05-16T19:25:20.530048Z",
     "iopub.status.idle": "2023-05-16T19:25:20.537749Z",
     "shell.execute_reply": "2023-05-16T19:25:20.536942Z",
     "shell.execute_reply.started": "2023-05-16T19:25:20.530685Z"
    }
   },
   "outputs": [
    {
     "name": "stderr",
     "output_type": "stream",
     "text": [
      "Using TensorFlow backend.\n"
     ]
    }
   ],
   "source": [
    "from keras.models import Model\n",
    "from keras.layers import Input, Dense, Conv1D, MaxPooling1D, Softmax, Add, Flatten, Activation# , Dropout\n",
    "from keras import backend as K\n",
    "from keras.optimizers import Adam\n",
    "from keras.callbacks import LearningRateScheduler, ModelCheckpoint"
   ]
  },
  {
   "cell_type": "code",
   "execution_count": 18,
   "metadata": {
    "_uuid": "fb0dc9775ddfa761c0ad948d59020fcbd2681c57",
    "execution": {
     "iopub.execute_input": "2023-05-16T19:25:20.697652Z",
     "iopub.status.busy": "2023-05-16T19:25:20.697327Z",
     "iopub.status.idle": "2023-05-16T19:25:20.702838Z",
     "shell.execute_reply": "2023-05-16T19:25:20.701869Z",
     "shell.execute_reply.started": "2023-05-16T19:25:20.697598Z"
    }
   },
   "outputs": [],
   "source": [
    "n_obs, feature, depth = X_train.shape\n",
    "batch_size = 500"
   ]
  },
  {
   "cell_type": "code",
   "execution_count": 19,
   "metadata": {
    "_uuid": "e70fab0b07290e042ba9cd7c6cba37462a457b03",
    "execution": {
     "iopub.execute_input": "2023-05-16T19:25:22.182968Z",
     "iopub.status.busy": "2023-05-16T19:25:22.182454Z",
     "iopub.status.idle": "2023-05-16T19:25:22.755661Z",
     "shell.execute_reply": "2023-05-16T19:25:22.754749Z",
     "shell.execute_reply.started": "2023-05-16T19:25:22.182902Z"
    }
   },
   "outputs": [
    {
     "name": "stdout",
     "output_type": "stream",
     "text": [
      "__________________________________________________________________________________________________\n",
      "Layer (type)                    Output Shape         Param #     Connected to                     \n",
      "==================================================================================================\n",
      "input_1 (InputLayer)            (None, 187, 1)       0                                            \n",
      "__________________________________________________________________________________________________\n",
      "conv1d_1 (Conv1D)               (None, 183, 32)      192         input_1[0][0]                    \n",
      "__________________________________________________________________________________________________\n",
      "conv1d_2 (Conv1D)               (None, 183, 32)      5152        conv1d_1[0][0]                   \n",
      "__________________________________________________________________________________________________\n",
      "activation_1 (Activation)       (None, 183, 32)      0           conv1d_2[0][0]                   \n",
      "__________________________________________________________________________________________________\n",
      "conv1d_3 (Conv1D)               (None, 183, 32)      5152        activation_1[0][0]               \n",
      "__________________________________________________________________________________________________\n",
      "add_1 (Add)                     (None, 183, 32)      0           conv1d_3[0][0]                   \n",
      "                                                                 conv1d_1[0][0]                   \n",
      "__________________________________________________________________________________________________\n",
      "activation_4 (Activation)       (None, 183, 32)      0           add_1[0][0]                      \n",
      "__________________________________________________________________________________________________\n",
      "max_pooling1d_2 (MaxPooling1D)  (None, 90, 32)       0           activation_4[0][0]               \n",
      "__________________________________________________________________________________________________\n",
      "conv1d_6 (Conv1D)               (None, 90, 32)       5152        max_pooling1d_2[0][0]            \n",
      "__________________________________________________________________________________________________\n",
      "activation_5 (Activation)       (None, 90, 32)       0           conv1d_6[0][0]                   \n",
      "__________________________________________________________________________________________________\n",
      "conv1d_7 (Conv1D)               (None, 90, 32)       5152        activation_5[0][0]               \n",
      "__________________________________________________________________________________________________\n",
      "add_3 (Add)                     (None, 90, 32)       0           conv1d_7[0][0]                   \n",
      "                                                                 max_pooling1d_2[0][0]            \n",
      "__________________________________________________________________________________________________\n",
      "activation_6 (Activation)       (None, 90, 32)       0           add_3[0][0]                      \n",
      "__________________________________________________________________________________________________\n",
      "max_pooling1d_3 (MaxPooling1D)  (None, 43, 32)       0           activation_6[0][0]               \n",
      "__________________________________________________________________________________________________\n",
      "conv1d_8 (Conv1D)               (None, 43, 32)       5152        max_pooling1d_3[0][0]            \n",
      "__________________________________________________________________________________________________\n",
      "activation_7 (Activation)       (None, 43, 32)       0           conv1d_8[0][0]                   \n",
      "__________________________________________________________________________________________________\n",
      "conv1d_9 (Conv1D)               (None, 43, 32)       5152        activation_7[0][0]               \n",
      "__________________________________________________________________________________________________\n",
      "add_4 (Add)                     (None, 43, 32)       0           conv1d_9[0][0]                   \n",
      "                                                                 max_pooling1d_3[0][0]            \n",
      "__________________________________________________________________________________________________\n",
      "activation_8 (Activation)       (None, 43, 32)       0           add_4[0][0]                      \n",
      "__________________________________________________________________________________________________\n",
      "max_pooling1d_4 (MaxPooling1D)  (None, 20, 32)       0           activation_8[0][0]               \n",
      "__________________________________________________________________________________________________\n",
      "conv1d_10 (Conv1D)              (None, 20, 32)       5152        max_pooling1d_4[0][0]            \n",
      "__________________________________________________________________________________________________\n",
      "activation_9 (Activation)       (None, 20, 32)       0           conv1d_10[0][0]                  \n",
      "__________________________________________________________________________________________________\n",
      "conv1d_11 (Conv1D)              (None, 20, 32)       5152        activation_9[0][0]               \n",
      "__________________________________________________________________________________________________\n",
      "add_5 (Add)                     (None, 20, 32)       0           conv1d_11[0][0]                  \n",
      "                                                                 max_pooling1d_4[0][0]            \n",
      "__________________________________________________________________________________________________\n",
      "activation_10 (Activation)      (None, 20, 32)       0           add_5[0][0]                      \n",
      "__________________________________________________________________________________________________\n",
      "max_pooling1d_5 (MaxPooling1D)  (None, 8, 32)        0           activation_10[0][0]              \n",
      "__________________________________________________________________________________________________\n",
      "flatten_1 (Flatten)             (None, 256)          0           max_pooling1d_5[0][0]            \n",
      "__________________________________________________________________________________________________\n",
      "dense_1 (Dense)                 (None, 32)           8224        flatten_1[0][0]                  \n",
      "__________________________________________________________________________________________________\n",
      "activation_11 (Activation)      (None, 32)           0           dense_1[0][0]                    \n",
      "__________________________________________________________________________________________________\n",
      "dense_2 (Dense)                 (None, 32)           1056        activation_11[0][0]              \n",
      "__________________________________________________________________________________________________\n",
      "dense_3 (Dense)                 (None, 5)            165         dense_2[0][0]                    \n",
      "__________________________________________________________________________________________________\n",
      "softmax_1 (Softmax)             (None, 5)            0           dense_3[0][0]                    \n",
      "==================================================================================================\n",
      "Total params: 50,853\n",
      "Trainable params: 50,853\n",
      "Non-trainable params: 0\n",
      "__________________________________________________________________________________________________\n"
     ]
    }
   ],
   "source": [
    "K.clear_session()\n",
    "\n",
    "inp = Input(shape=(feature, depth))\n",
    "C = Conv1D(filters=32, kernel_size=5, strides=1)(inp)\n",
    "\n",
    "C11 = Conv1D(filters=32, kernel_size=5, strides=1, padding='same')(C)\n",
    "A11 = Activation(\"relu\")(C11)\n",
    "C12 = Conv1D(filters=32, kernel_size=5, strides=1, padding='same')(A11)\n",
    "S11 = Add()([C12, C])\n",
    "A12 = Activation(\"relu\")(S11)\n",
    "M11 = MaxPooling1D(pool_size=5, strides=2)(A12)\n",
    "\n",
    "\n",
    "C21 = Conv1D(filters=32, kernel_size=5, strides=1, padding='same')(M11)\n",
    "A21 = Activation(\"relu\")(C21)\n",
    "C22 = Conv1D(filters=32, kernel_size=5, strides=1, padding='same')(A21)\n",
    "S21 = Add()([C22, M11])\n",
    "A22 = Activation(\"relu\")(S11)\n",
    "M21 = MaxPooling1D(pool_size=5, strides=2)(A22)\n",
    "\n",
    "\n",
    "C31 = Conv1D(filters=32, kernel_size=5, strides=1, padding='same')(M21)\n",
    "A31 = Activation(\"relu\")(C31)\n",
    "C32 = Conv1D(filters=32, kernel_size=5, strides=1, padding='same')(A31)\n",
    "S31 = Add()([C32, M21])\n",
    "A32 = Activation(\"relu\")(S31)\n",
    "M31 = MaxPooling1D(pool_size=5, strides=2)(A32)\n",
    "\n",
    "\n",
    "C41 = Conv1D(filters=32, kernel_size=5, strides=1, padding='same')(M31)\n",
    "A41 = Activation(\"relu\")(C41)\n",
    "C42 = Conv1D(filters=32, kernel_size=5, strides=1, padding='same')(A41)\n",
    "S41 = Add()([C42, M31])\n",
    "A42 = Activation(\"relu\")(S41)\n",
    "M41 = MaxPooling1D(pool_size=5, strides=2)(A42)\n",
    "\n",
    "\n",
    "C51 = Conv1D(filters=32, kernel_size=5, strides=1, padding='same')(M41)\n",
    "A51 = Activation(\"relu\")(C51)\n",
    "C52 = Conv1D(filters=32, kernel_size=5, strides=1, padding='same')(A51)\n",
    "S51 = Add()([C52, M41])\n",
    "A52 = Activation(\"relu\")(S51)\n",
    "M51 = MaxPooling1D(pool_size=5, strides=2)(A52)\n",
    "\n",
    "F1 = Flatten()(M51)\n",
    "\n",
    "D1 = Dense(32)(F1)\n",
    "A6 = Activation(\"relu\")(D1)\n",
    "D2 = Dense(32)(A6)\n",
    "D3 = Dense(5)(D2)\n",
    "A7 = Softmax()(D3)\n",
    "\n",
    "model = Model(inputs=inp, outputs=A7)\n",
    "\n",
    "model.summary()"
   ]
  },
  {
   "cell_type": "code",
   "execution_count": 20,
   "metadata": {
    "_uuid": "fdc0d8aa8475330af8d8e652d0b9ce214da66956",
    "execution": {
     "iopub.execute_input": "2023-05-16T19:25:40.787576Z",
     "iopub.status.busy": "2023-05-16T19:25:40.787216Z",
     "iopub.status.idle": "2023-05-16T19:25:40.797498Z",
     "shell.execute_reply": "2023-05-16T19:25:40.796574Z",
     "shell.execute_reply.started": "2023-05-16T19:25:40.787522Z"
    }
   },
   "outputs": [],
   "source": [
    "def exp_decay(epoch):\n",
    "    initial_lrate = 0.001\n",
    "    k = 0.75\n",
    "    t = n_obs//(10000 * batch_size)  # every epoch we do n_obs/batch_size iteration\n",
    "    lrate = initial_lrate * math.exp(-k*t)\n",
    "    return lrate\n",
    "\n",
    "lrate = LearningRateScheduler(exp_decay)"
   ]
  },
  {
   "cell_type": "code",
   "execution_count": 21,
   "metadata": {
    "_uuid": "abcd2f0e8488c8f3b33cd6ed9ca7fd60fa44404b",
    "execution": {
     "iopub.execute_input": "2023-05-16T19:25:42.094395Z",
     "iopub.status.busy": "2023-05-16T19:25:42.094010Z",
     "iopub.status.idle": "2023-05-16T19:25:42.121152Z",
     "shell.execute_reply": "2023-05-16T19:25:42.120174Z",
     "shell.execute_reply.started": "2023-05-16T19:25:42.094337Z"
    }
   },
   "outputs": [],
   "source": [
    "adam = Adam(lr = 0.001, beta_1 = 0.9, beta_2 = 0.999)"
   ]
  },
  {
   "cell_type": "code",
   "execution_count": 22,
   "metadata": {
    "_uuid": "812e637ae56f6a4be9c8e98d3b501cfb11ef78cb",
    "execution": {
     "iopub.execute_input": "2023-05-16T19:25:42.802926Z",
     "iopub.status.busy": "2023-05-16T19:25:42.802604Z",
     "iopub.status.idle": "2023-05-16T19:25:42.840170Z",
     "shell.execute_reply": "2023-05-16T19:25:42.839355Z",
     "shell.execute_reply.started": "2023-05-16T19:25:42.802877Z"
    }
   },
   "outputs": [],
   "source": [
    "model.compile(loss='categorical_crossentropy', optimizer=adam, metrics=['accuracy'])"
   ]
  },
  {
   "cell_type": "code",
   "execution_count": 23,
   "metadata": {
    "_uuid": "1e6ef643f6a55ab5b3c1b46126832c3ac45a6a2b",
    "execution": {
     "iopub.execute_input": "2023-05-16T19:25:44.792846Z",
     "iopub.status.busy": "2023-05-16T19:25:44.792537Z"
    }
   },
   "outputs": [
    {
     "name": "stdout",
     "output_type": "stream",
     "text": [
      "Train on 109150 samples, validate on 4000 samples\n",
      "Epoch 1/75\n",
      " - 104s - loss: 0.3788 - acc: 0.8871 - val_loss: 0.8400 - val_acc: 0.7333\n",
      "Epoch 2/75\n",
      " - 103s - loss: 0.1455 - acc: 0.9605 - val_loss: 0.8016 - val_acc: 0.7778\n",
      "Epoch 3/75\n",
      " - 102s - loss: 0.1071 - acc: 0.9710 - val_loss: 0.5022 - val_acc: 0.8622\n",
      "Epoch 4/75\n",
      " - 102s - loss: 0.0887 - acc: 0.9752 - val_loss: 0.5615 - val_acc: 0.8577\n",
      "Epoch 5/75\n",
      " - 102s - loss: 0.0756 - acc: 0.9784 - val_loss: 0.4063 - val_acc: 0.8793\n",
      "Epoch 6/75\n",
      " - 102s - loss: 0.0684 - acc: 0.9806 - val_loss: 0.4566 - val_acc: 0.8642\n",
      "Epoch 7/75\n",
      " - 101s - loss: 0.0636 - acc: 0.9817 - val_loss: 0.4348 - val_acc: 0.8637\n",
      "Epoch 8/75\n",
      " - 102s - loss: 0.0574 - acc: 0.9833 - val_loss: 0.3531 - val_acc: 0.8930\n",
      "Epoch 9/75\n",
      " - 101s - loss: 0.0522 - acc: 0.9845 - val_loss: 0.3770 - val_acc: 0.8925\n",
      "Epoch 10/75\n",
      " - 101s - loss: 0.0490 - acc: 0.9853 - val_loss: 0.2794 - val_acc: 0.9163\n",
      "Epoch 11/75\n",
      " - 100s - loss: 0.0444 - acc: 0.9862 - val_loss: 0.2980 - val_acc: 0.9115\n",
      "Epoch 12/75\n",
      " - 100s - loss: 0.0432 - acc: 0.9868 - val_loss: 0.2595 - val_acc: 0.9235\n",
      "Epoch 13/75\n",
      " - 102s - loss: 0.0409 - acc: 0.9870 - val_loss: 0.3113 - val_acc: 0.9078\n",
      "Epoch 14/75\n",
      " - 102s - loss: 0.0372 - acc: 0.9883 - val_loss: 0.2549 - val_acc: 0.9292\n",
      "Epoch 15/75\n",
      " - 102s - loss: 0.0371 - acc: 0.9882 - val_loss: 0.3149 - val_acc: 0.9097\n",
      "Epoch 16/75\n",
      " - 101s - loss: 0.0352 - acc: 0.9887 - val_loss: 0.2119 - val_acc: 0.9370\n",
      "Epoch 17/75\n",
      " - 101s - loss: 0.0331 - acc: 0.9894 - val_loss: 0.3193 - val_acc: 0.9063\n",
      "Epoch 18/75\n",
      " - 100s - loss: 0.0313 - acc: 0.9899 - val_loss: 0.2399 - val_acc: 0.9323\n",
      "Epoch 19/75\n",
      " - 101s - loss: 0.0300 - acc: 0.9902 - val_loss: 0.2151 - val_acc: 0.9385\n",
      "Epoch 20/75\n",
      " - 101s - loss: 0.0279 - acc: 0.9910 - val_loss: 0.3163 - val_acc: 0.9100\n",
      "Epoch 21/75\n",
      " - 101s - loss: 0.0267 - acc: 0.9913 - val_loss: 0.2945 - val_acc: 0.9138\n",
      "Epoch 22/75\n",
      " - 100s - loss: 0.0259 - acc: 0.9917 - val_loss: 0.3146 - val_acc: 0.9188\n",
      "Epoch 23/75\n",
      " - 100s - loss: 0.0254 - acc: 0.9914 - val_loss: 0.3859 - val_acc: 0.9078\n",
      "Epoch 24/75\n",
      " - 100s - loss: 0.0237 - acc: 0.9920 - val_loss: 0.3057 - val_acc: 0.9190\n",
      "Epoch 25/75\n",
      " - 100s - loss: 0.0234 - acc: 0.9920 - val_loss: 0.2927 - val_acc: 0.9262\n",
      "Epoch 26/75\n",
      " - 99s - loss: 0.0213 - acc: 0.9928 - val_loss: 0.2512 - val_acc: 0.9282\n",
      "Epoch 27/75\n",
      " - 100s - loss: 0.0210 - acc: 0.9930 - val_loss: 0.3440 - val_acc: 0.9050\n",
      "Epoch 28/75\n",
      " - 100s - loss: 0.0207 - acc: 0.9931 - val_loss: 0.2545 - val_acc: 0.9392\n",
      "Epoch 29/75\n",
      " - 101s - loss: 0.0180 - acc: 0.9936 - val_loss: 0.3878 - val_acc: 0.9055\n",
      "Epoch 30/75\n",
      " - 101s - loss: 0.0189 - acc: 0.9936 - val_loss: 0.3123 - val_acc: 0.9178\n",
      "Epoch 31/75\n",
      " - 100s - loss: 0.0169 - acc: 0.9943 - val_loss: 0.2286 - val_acc: 0.9363\n",
      "Epoch 32/75\n",
      " - 101s - loss: 0.0177 - acc: 0.9940 - val_loss: 0.2086 - val_acc: 0.9455\n",
      "Epoch 33/75\n",
      " - 100s - loss: 0.0184 - acc: 0.9937 - val_loss: 0.2588 - val_acc: 0.9430\n",
      "Epoch 34/75\n",
      " - 101s - loss: 0.0152 - acc: 0.9949 - val_loss: 0.2425 - val_acc: 0.9487\n",
      "Epoch 35/75\n",
      " - 101s - loss: 0.0163 - acc: 0.9945 - val_loss: 0.2441 - val_acc: 0.9358\n",
      "Epoch 36/75\n",
      " - 102s - loss: 0.0168 - acc: 0.9942 - val_loss: 0.3132 - val_acc: 0.9162\n",
      "Epoch 37/75\n",
      " - 100s - loss: 0.0154 - acc: 0.9946 - val_loss: 0.2795 - val_acc: 0.9320\n",
      "Epoch 38/75\n",
      " - 101s - loss: 0.0145 - acc: 0.9950 - val_loss: 0.2800 - val_acc: 0.9360\n",
      "Epoch 39/75\n",
      " - 102s - loss: 0.0143 - acc: 0.9951 - val_loss: 0.3431 - val_acc: 0.9265\n",
      "Epoch 40/75\n",
      " - 100s - loss: 0.0148 - acc: 0.9947 - val_loss: 0.2656 - val_acc: 0.9315\n",
      "Epoch 41/75\n",
      " - 99s - loss: 0.0138 - acc: 0.9951 - val_loss: 0.2260 - val_acc: 0.9460\n",
      "Epoch 42/75\n",
      " - 101s - loss: 0.0139 - acc: 0.9952 - val_loss: 0.2499 - val_acc: 0.9400\n",
      "Epoch 43/75\n",
      " - 101s - loss: 0.0122 - acc: 0.9958 - val_loss: 0.2434 - val_acc: 0.9435\n",
      "Epoch 44/75\n",
      " - 101s - loss: 0.0120 - acc: 0.9959 - val_loss: 0.2576 - val_acc: 0.9427\n",
      "Epoch 45/75\n",
      " - 101s - loss: 0.0125 - acc: 0.9956 - val_loss: 0.2475 - val_acc: 0.9482\n",
      "Epoch 46/75\n",
      " - 100s - loss: 0.0122 - acc: 0.9954 - val_loss: 0.2568 - val_acc: 0.9475\n",
      "Epoch 47/75\n",
      " - 100s - loss: 0.0146 - acc: 0.9948 - val_loss: 0.3293 - val_acc: 0.9340\n",
      "Epoch 48/75\n",
      " - 98s - loss: 0.0102 - acc: 0.9964 - val_loss: 0.2933 - val_acc: 0.9350\n",
      "Epoch 49/75\n",
      " - 99s - loss: 0.0097 - acc: 0.9968 - val_loss: 0.3649 - val_acc: 0.9305\n",
      "Epoch 50/75\n",
      " - 100s - loss: 0.0112 - acc: 0.9962 - val_loss: 0.2542 - val_acc: 0.9432\n",
      "Epoch 51/75\n",
      " - 100s - loss: 0.0115 - acc: 0.9961 - val_loss: 0.3615 - val_acc: 0.9237\n",
      "Epoch 52/75\n",
      " - 99s - loss: 0.0105 - acc: 0.9963 - val_loss: 0.3092 - val_acc: 0.9420\n",
      "Epoch 53/75\n",
      " - 100s - loss: 0.0087 - acc: 0.9970 - val_loss: 0.2370 - val_acc: 0.9547\n",
      "Epoch 54/75\n",
      " - 100s - loss: 0.0132 - acc: 0.9955 - val_loss: 0.2247 - val_acc: 0.9502\n",
      "Epoch 55/75\n",
      " - 100s - loss: 0.0110 - acc: 0.9962 - val_loss: 0.2971 - val_acc: 0.9380\n",
      "Epoch 56/75\n",
      " - 100s - loss: 0.0109 - acc: 0.9961 - val_loss: 0.3315 - val_acc: 0.9313\n",
      "Epoch 57/75\n",
      " - 100s - loss: 0.0099 - acc: 0.9964 - val_loss: 0.2435 - val_acc: 0.9532\n",
      "Epoch 58/75\n",
      " - 100s - loss: 0.0089 - acc: 0.9966 - val_loss: 0.3121 - val_acc: 0.9432\n",
      "Epoch 59/75\n",
      " - 100s - loss: 0.0093 - acc: 0.9967 - val_loss: 0.2779 - val_acc: 0.9500\n",
      "Epoch 60/75\n",
      " - 101s - loss: 0.0106 - acc: 0.9963 - val_loss: 0.2798 - val_acc: 0.9382\n",
      "Epoch 61/75\n",
      " - 101s - loss: 0.0104 - acc: 0.9964 - val_loss: 0.2349 - val_acc: 0.9468\n",
      "Epoch 62/75\n",
      " - 100s - loss: 0.0083 - acc: 0.9970 - val_loss: 0.3807 - val_acc: 0.9297\n",
      "Epoch 63/75\n",
      " - 100s - loss: 0.0097 - acc: 0.9964 - val_loss: 0.3626 - val_acc: 0.9377\n",
      "Epoch 64/75\n",
      " - 101s - loss: 0.0088 - acc: 0.9969 - val_loss: 0.3237 - val_acc: 0.9385\n",
      "Epoch 65/75\n",
      " - 101s - loss: 0.0091 - acc: 0.9969 - val_loss: 0.3255 - val_acc: 0.9455\n",
      "Epoch 66/75\n",
      " - 100s - loss: 0.0099 - acc: 0.9965 - val_loss: 0.3480 - val_acc: 0.9330\n",
      "Epoch 67/75\n",
      " - 100s - loss: 0.0085 - acc: 0.9969 - val_loss: 0.3059 - val_acc: 0.9347\n",
      "Epoch 68/75\n",
      " - 100s - loss: 0.0072 - acc: 0.9975 - val_loss: 0.3029 - val_acc: 0.9452\n",
      "Epoch 69/75\n",
      " - 99s - loss: 0.0100 - acc: 0.9966 - val_loss: 0.2978 - val_acc: 0.9427\n",
      "Epoch 70/75\n",
      " - 100s - loss: 0.0114 - acc: 0.9962 - val_loss: 0.2925 - val_acc: 0.9445\n",
      "Epoch 71/75\n",
      " - 100s - loss: 0.0091 - acc: 0.9968 - val_loss: 0.2583 - val_acc: 0.9535\n",
      "Epoch 72/75\n",
      " - 100s - loss: 0.0070 - acc: 0.9974 - val_loss: 0.3371 - val_acc: 0.9365\n",
      "Epoch 73/75\n",
      " - 99s - loss: 0.0074 - acc: 0.9974 - val_loss: 0.3384 - val_acc: 0.9450\n",
      "Epoch 74/75\n",
      " - 99s - loss: 0.0109 - acc: 0.9962 - val_loss: 0.3134 - val_acc: 0.9405\n",
      "Epoch 75/75\n",
      " - 99s - loss: 0.0077 - acc: 0.9972 - val_loss: 0.2717 - val_acc: 0.9415\n"
     ]
    }
   ],
   "source": [
    "history = model.fit(X_train, y_train, \n",
    "                    epochs=75, \n",
    "                    batch_size=batch_size, \n",
    "                    verbose=2, \n",
    "                    validation_data=(X_test, y_test), \n",
    "                    callbacks=[lrate])"
   ]
  },
  {
   "cell_type": "code",
   "execution_count": 24,
   "metadata": {
    "_uuid": "d43023d26a87e3c4702b96bea5962c990c76aa0a"
   },
   "outputs": [],
   "source": [
    "y_pred = model.predict(X_test, batch_size=1000)"
   ]
  },
  {
   "cell_type": "code",
   "execution_count": 25,
   "metadata": {
    "_uuid": "20cfe7f5891e3c26c599fa4cd728ac0a499ac70e"
   },
   "outputs": [
    {
     "name": "stdout",
     "output_type": "stream",
     "text": [
      "             precision    recall  f1-score   support\n",
      "\n",
      "          0       0.86      1.00      0.92       800\n",
      "          1       0.99      0.87      0.93       800\n",
      "          2       0.89      0.97      0.93       800\n",
      "          3       0.99      0.88      0.93       800\n",
      "          4       1.00      0.99      0.99       800\n",
      "\n",
      "avg / total       0.95      0.94      0.94      4000\n",
      "\n"
     ]
    }
   ],
   "source": [
    "print(classification_report(y_test.argmax(axis=1), y_pred.argmax(axis=1)))"
   ]
  },
  {
   "cell_type": "code",
   "execution_count": 26,
   "metadata": {
    "_uuid": "017f2431a45766fb0d4b2ef17ce613c1142ca085"
   },
   "outputs": [
    {
     "name": "stdout",
     "output_type": "stream",
     "text": [
      "ranking-based average precision : 0.969\n",
      "Ranking loss : 0.018\n",
      "Coverage_error : 1.071\n"
     ]
    }
   ],
   "source": [
    "print(\"ranking-based average precision : {:.3f}\".format(label_ranking_average_precision_score(y_test.todense(), y_pred)))\n",
    "print(\"Ranking loss : {:.3f}\".format(label_ranking_loss(y_test.todense(), y_pred)))\n",
    "print(\"Coverage_error : {:.3f}\".format(coverage_error(y_test.todense(), y_pred)))"
   ]
  },
  {
   "cell_type": "code",
   "execution_count": 27,
   "metadata": {
    "_uuid": "0fcf027f00a7031dd7dc7d25c0c6ff362c39954b"
   },
   "outputs": [
    {
     "name": "stdout",
     "output_type": "stream",
     "text": [
      "Confusion matrix, without normalization\n"
     ]
    },
    {
     "data": {
      "image/png": "[encoded data removed]",
      "text/plain": [
       "<matplotlib.figure.Figure at 0x7c4fe4b92a58>"
      ]
     },
     "metadata": {},
     "output_type": "display_data"
    }
   ],
   "source": [
    "def plot_confusion_matrix(cm, classes,\n",
    "                          normalize=False,\n",
    "                          title='Confusion matrix',\n",
    "                          cmap=plt.cm.Blues):\n",
    "    \"\"\"\n",
    "    This function prints and plots the confusion matrix.\n",
    "    Normalization can be applied by setting `normalize=True`.\n",
    "    \"\"\"\n",
    "    if normalize:\n",
    "        cm = cm.astype('float') / cm.sum(axis=1)[:, np.newaxis]\n",
    "        print(\"Normalized confusion matrix\")\n",
    "    else:\n",
    "        print('Confusion matrix, without normalization')\n",
    "\n",
    "    plt.imshow(cm, interpolation='nearest', cmap=cmap)\n",
    "    plt.title(title)\n",
    "    plt.colorbar()\n",
    "    tick_marks = np.arange(len(classes))\n",
    "    plt.xticks(tick_marks, classes, rotation=45)\n",
    "    plt.yticks(tick_marks, classes)\n",
    "\n",
    "    fmt = '.2f' if normalize else 'd'\n",
    "    thresh = cm.max() / 2.\n",
    "    for i, j in itertools.product(range(cm.shape[0]), range(cm.shape[1])):\n",
    "        plt.text(j, i, format(cm[i, j], fmt),\n",
    "                 horizontalalignment=\"center\",\n",
    "                 color=\"white\" if cm[i, j] > thresh else \"black\")\n",
    "\n",
    "    plt.tight_layout()\n",
    "    plt.ylabel('True label')\n",
    "    plt.xlabel('Predicted label')\n",
    "\n",
    "# Compute confusion matrix\n",
    "cnf_matrix = confusion_matrix(y_test.argmax(axis=1), y_pred.argmax(axis=1))\n",
    "np.set_printoptions(precision=2)\n",
    "\n",
    "# Plot non-normalized confusion matrix\n",
    "plt.figure(figsize=(10, 10))\n",
    "plot_confusion_matrix(cnf_matrix, classes=['N', 'S', 'V', 'F', 'Q'],\n",
    "                      title='Confusion matrix, without normalization')\n",
    "plt.show()"
   ]
  }
 ],
 "metadata": {
  "kernelspec": {
   "display_name": "Python 3",
   "language": "python",
   "name": "python3"
  },
  "language_info": {
   "codemirror_mode": {
    "name": "ipython",
    "version": 3
   },
   "file_extension": ".py",
   "mimetype": "text/x-python",
   "name": "python",
   "nbconvert_exporter": "python",
   "pygments_lexer": "ipython3",
   "version": "3.6.4"
  }
 },
 "nbformat": 4,
 "nbformat_minor": 4
}
