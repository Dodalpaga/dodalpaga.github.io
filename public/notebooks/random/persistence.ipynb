{
 "cells": [
  {
   "cell_type": "markdown",
   "id": "a8c11625",
   "metadata": {},
   "source": [
    "<h1>\n",
    "<center>\n",
    "\n",
    "📘🔢📏 La Persistence Multiplicative (Relaxée) de Erdös  🧑‍🏫🧮\n",
    "\n",
    "</center>\n",
    "</h1>"
   ]
  },
  {
   "cell_type": "markdown",
   "id": "f45bcd26",
   "metadata": {},
   "source": [
    "<center>\n",
    "\n",
    "<img src= \"https://i.ytimg.com/vi/twc0Acl_Y6I/maxresdefault.jpg\" alt =\"Titanic\" style='width: 600px;'>\n",
    "\n",
    "</center>\n",
    "\n",
    "<h3 style=\"text-decoration: underline;\">Overview : The Multiplicative Persistence</h3>\n",
    "<p>\n",
    "The original 'Multiplicative Persistence' concept is:\n",
    "\n",
    "```Python\n",
    "# Multiply all the digits of a number N  by each other,\n",
    "# repeating with the product until a single digit is obtained.\n",
    "# The number of steps required is known as the multiplicative persistence\n",
    "```\n",
    "\n",
    "The smallest numbers having multiplicative persistence of 1, 2, ... are 10, 25, 39, 77, 679, 6788, 68889, 2677889, 26888999, 3778888999, 277777788888899, ... (Sloane's A003001; Wells 1986, p. 78)\n",
    "\n",
    "There is no number N<10^50 with multiplicative persistence >11 (Wells 1986, p. 78)\n",
    "\n",
    "This is the sequence of numbers arising from 277777788888899 :\n",
    "\n",
    "277777788888899,  4996238671872, 438939648, 4478976, 338688, 27648, 2688, 768, 336, 54, 20, 0\n",
    "\n",
    "</p>\n",
    "\n",
    "<h3 style=\"text-decoration: underline;\">What is the \"Erdös persistence\" ?</h3>\n",
    "<p>\n",
    "\n",
    "Multiplicative Persistence, Erdös style, goes this way:\n",
    "\n",
    "```Python\n",
    "# Multiply all the non-zero digits of a number N  by each other, repeating with the product until a single digit is obtained\n",
    "```\n",
    "\n",
    "Walter Schnider says that \"Using the modification from Erdös the persistence seems not to be bounded (proof?)\"\n",
    "\n",
    "I found someone who obtained the following n values for persistence greater than 11:\n",
    "\n",
    "<table>\n",
    "    <tbody>\n",
    "        <tr>\n",
    "            <td>persistence</td>\n",
    "            <td>n (smallest?) value</td>\n",
    "        </tr>\n",
    "        <tr>\n",
    "            <td>12</td>\n",
    "            <td>(5)16 (7)13</td>\n",
    "        </tr>\n",
    "        <tr>\n",
    "            <td>13</td>\n",
    "            <td>(7)42(8)2(9)14</td>\n",
    "        </tr>\n",
    "        <tr>\n",
    "            <td>14</td>\n",
    "            <td>(2)1(6)1(7)130(9)8</td>\n",
    "        </tr>\n",
    "    </tbody>\n",
    "</table>\n",
    "\n",
    "This is the sequences for persistence 12:\n",
    "\n",
    "55555555555555557777777777777, 14784089722747802734375, 49962386718720, 438939648, 4478976, 338688, 27648, 2688, 768, 336, 54, 20, 2\n",
    "\n",
    "Source : https://www.primepuzzles.net/puzzles/puzz_341.htm\n",
    "</p>\n",
    "\n",
    "<h3 style=\"text-decoration: underline;\">What is the big difference between both methods ?</h3>\n",
    "<p>\n",
    "\n",
    "While \"Classical method\" has a **maximum persistence of 11** (supposed), we currently don't know if there is an upper bound for the Erdös persistence.\n",
    "\n",
    "Maël Courtain & Julien Courties show that Erdös persistence can go to **at least 27** using the number composed of 5032475 digits 7 : (7)5032475 :\n",
    "\n",
    "- Iteration 0 : n2 =  0 n3 =  0  n4 =  0  n5 =  0  n6 =  0  n7 =  5032475  n8 =  0  n9 =  0<br/>\n",
    "- Iteration 1 : n0 =  425184  n1 =  425252 n2 =  425140  n3 =  424991  n4 =  424628  n5 =  425814  n6 =  425401  n7 =  425784  n8 =  424799  n9 =  425942<br/>\n",
    "- Iteration 2 : n0 =  619660  n1 =  194377 n2 =  193473  n3 =  193641  n4 =  193942  n5 =  194177  n6 =  193949  n7 =  193521  n8 =  193713  n9 =  194522<br/>\n",
    "- Iteration 3 : n0 =  282311  n1 =  88361 n2 =  87829  n3 =  88634  n4 =  88557  n5 =  88134  n6 =  88043  n7 =  88777  n8 =  88742  n9 =  88760<br/>\n",
    "- Iteration 4 : n0 =  128435  n1 =  40669 n2 =  40010  n3 =  40442  n4 =  40288  n5 =  40429  n6 =  40315  n7 =  40538  n8 =  40330  n9 =  40569<br/>\n",
    "- Iteration 5 : n0 =  58930  n1 =  18095 n2 =  18619  n3 =  18469  n4 =  18304  n5 =  18288  n6 =  18551  n7 =  18542  n8 =  18346  n9 =  18475<br/>\n",
    "- Iteration 6 : n0 =  26711  n1 =  8435 n2 =  8446  n3 =  8582  n4 =  8373  n5 =  8548  n6 =  8390  n7 =  8401  n8 =  8338  n9 =  8299<br/>\n",
    "- Iteration 7 : n0 =  12317  n1 =  3744 n2 =  3825  n3 =  3808  n4 =  3888  n5 =  3827  n6 =  3857  n7 =  3792  n8 =  3826  n9 =  3847<br/>\n",
    "- Iteration 8 : n0 =  5564  n1 =  1682 n2 =  1756  n3 =  1831  n4 =  1749  n5 =  1765  n6 =  1719  n7 =  1687  n8 =  1786  n9 =  1778<br/>\n",
    "- Iteration 9 : n0 =  2539  n1 =  799 n2 =  831  n3 =  827  n4 =  776  n5 =  739  n6 =  807  n7 =  821  n8 =  802  n9 =  821<br/>\n",
    "- Iteration 10 : n0 =  1092  n1 =  368 n2 =  322  n3 =  396  n4 =  376  n5 =  374  n6 =  355  n7 =  385  n8 =  400  n9 =  390<br/>\n",
    "- Iteration 11 : n0 =  530  n1 =  167 n2 =  158  n3 =  181  n4 =  182  n5 =  186  n6 =  201  n7 =  174  n8 =  167  n9 =  163<br/>\n",
    "- Iteration 12 : n0 =  267  n1 =  83 n2 =  87  n3 =  83  n4 =  84  n5 =  78  n6 =  88  n7 =  65  n8 =  73  n9 =  76<br/>\n",
    "- Iteration 13 : n0 =  112  n1 =  37 n2 =  32  n3 =  40  n4 =  44  n5 =  36  n6 =  28  n7 =  36  n8 =  34  n9 =  34<br/>\n",
    "- Iteration 16 : n0 =  12  n1 =  1 n2 =  5  n3 =  6  n4 =  2  n5 =  0  n6 =  5  n7 =  5  n8 =  3  n9 =  0<br/>\n",
    "- Iteration 17 : n0 =  1  n1 =  0 n2 =  3  n3 =  4  n4 =  3  n5 =  1  n6 =  1  n7 =  2  n8 =  1  n9 =  1<br/>\n",
    "- Iteration 18 : n0 =  1  n1 =  0 n2 =  0  n3 =  2  n4 =  2  n5 =  0  n6 =  1  n7 =  0  n8 =  2  n9 =  2<br/>\n",
    "- Iteration 14 : n0 =  46  n1 =  18 n2 =  17  n3 =  14  n4 =  20  n5 =  22  n6 =  21  n7 =  4  n8 =  15  n9 =  19<br/>\n",
    "- Iteration 19 : n0 =  0  n1 =  0 n2 =  0  n3 =  0  n4 =  2  n5 =  0  n6 =  1  n7 =  2  n8 =  1  n9 =  1<br/>\n",
    "- Iteration 15 : n0 =  32  n1 =  5 n2 =  4  n3 =  8  n4 =  5  n5 =  11  n6 =  6  n7 =  1  n8 =  11  n9 =  8<br/>\n",
    "- Iteration 20 : n0 =  0  n1 =  0 n2 =  0  n3 =  2  n4 =  0  n5 =  0  n6 =  1  n7 =  0  n8 =  3  n9 =  0<br/>\n",
    "- Iteration 21 : n0 =  0  n1 =  0 n2 =  1  n3 =  0  n4 =  1  n5 =  0  n6 =  1  n7 =  1  n8 =  1  n9 =  0<br/>\n",
    "- Iteration 22 : n0 =  0  n1 =  0 n2 =  1  n3 =  0  n4 =  0  n5 =  0  n6 =  1  n7 =  0  n8 =  2  n9 =  0<br/>\n",
    "- Iteration 23 : n0 =  0  n1 =  0 n2 =  0  n3 =  0  n4 =  0  n5 =  0  n6 =  1  n7 =  1  n8 =  1  n9 =  0<br/>\n",
    "- Iteration 24 : n0 =  0  n1 =  0 n2 =  0  n3 =  2  n4 =  0  n5 =  0  n6 =  1  n7 =  0  n8 =  0  n9 =  0<br/>\n",
    "- Iteration 25 : n0 =  0  n1 =  0 n2 =  0  n3 =  0  n4 =  1  n5 =  1  n6 =  0  n7 =  0  n8 =  0  n9 =  0<br/>\n",
    "- Iteration 26 : n0 =  1  n1 =  0 n2 =  1  n3 =  0  n4 =  0  n5 =  0  n6 =  0  n7 =  0  n8 =  0  n9 =  0<br/>\n",
    "- Iteration 27 : n0 =  0  n1 =  0 n2 =  1  n3 =  0  n4 =  0  n5 =  0  n6 =  0  n7 =  0  n8 =  0  n9 =  0\n",
    "\n",
    "\n",
    "</p>\n",
    "</h3>"
   ]
  },
  {
   "cell_type": "markdown",
   "id": "f56b0132",
   "metadata": {},
   "source": [
    "### Importation"
   ]
  },
  {
   "cell_type": "code",
   "execution_count": 1,
   "id": "b1b2d4ed",
   "metadata": {},
   "outputs": [],
   "source": [
    "import numpy as np\n",
    "import time\n",
    "import matplotlib.pyplot as plt\n",
    "from docplex.cp.model import *\n",
    "from config import setup\n",
    "setup()\n",
    "\n",
    "Erdös_bound = 27 # We define the upperbound of the persistence to 27 (the maximum that has yet been found)"
   ]
  },
  {
   "cell_type": "markdown",
   "id": "57533059",
   "metadata": {},
   "source": [
    "## Method used\n",
    "\n",
    "Say we start with a number composed of 3 digits : 804\n",
    "Let's introduce an empty list S = []\n",
    "1. We convert this integer into a list of digits : E = 804 --> new_e = [8,0,4]\n",
    "2. We convert all the zeros in it into ones : [8,0,4] --> [8,1,4]\n",
    "3. We multiply all the digits together : [8,1,4] --> 32\n",
    "4. We save the result in the list S\n",
    "5. Iterate\n",
    "   \n",
    "And we **iterate operations (1,2,3,4) 27 times** so we are sure we reached a single digit number in the end.<br>\n",
    "All we need to do is to **save each iteration multiplication into a list S**, <br>\n",
    "and **count the number of different values in it** and this gives us the **Erdös persistence formulae**"
   ]
  },
  {
   "cell_type": "markdown",
   "id": "b30a857f",
   "metadata": {},
   "source": [
    "## Module 1 : Convert integer to list"
   ]
  },
  {
   "cell_type": "markdown",
   "id": "ebce5fd8",
   "metadata": {},
   "source": [
    "#### To demonstrate how we converted an integer to a list of digit, we will take **x=4**\n",
    "We can decompose :\n",
    "\n",
    "$E = e_0.10^0 + e_1.10^1 + e_2.10^2 + e_3.10^3$\n",
    "\n",
    "How do we get back $e_i$ ?\n",
    "\n",
    "$e_3 = \\lfloor E*10^{-3} \\rfloor$<br>\n",
    "$e_2 = \\lfloor (E - e_3.10^3)\\times10^{-2} \\rfloor$<br>\n",
    "$e_1 = \\lfloor (E - e_3.10^3 - e_2.10^2)\\times10^{-1} \\rfloor$<br>\n",
    "$e_0 = \\lfloor (E - e_3.10^3 - e_2.10^2 - e_1.10^1)\\times10^{-0} \\rfloor$<br>\n",
    "\n",
    "**Note :** $\\lfloor x \\rfloor$ stands for \"floor of x\" (partie entière)\n",
    "\n",
    "For instance :<br>\n",
    "- $E = \\color{orange}3482$\n",
    "- $e_3 = \\lfloor \\color{orange}3482\\color{reset}.10^{-3} \\rfloor = \\lfloor 3,482 \\rfloor = \\color{red}3$\n",
    "- $e_2 = \\lfloor (\\color{orange}3482\\color{reset} - \\color{red}3\\color{reset}.10^{3})\\times10^{-2} \\rfloor = \\lfloor (0482)\\times10^{-2} \\rfloor = \\color{cyan}4$\n",
    "- $e_1 = \\lfloor (\\color{orange}3482\\color{reset} - \\color{red}3\\color{reset}.10^{3} - \\color{cyan}4.10^{2})\\times10^{-1} \\rfloor = \\lfloor (0082)\\times10^{-1} \\rfloor = \\color{green}8$\n",
    "- $e_0 = \\lfloor (\\color{orange}3482\\color{reset} - \\color{red}3\\color{reset}.10^{3} - \\color{cyan}4.10^{2} - \\color{green}8.10^{1})\\times10^{-0} \\rfloor = \\lfloor (0002)\\times10^{-0} \\rfloor = \\color{purple}2$\n",
    "\n",
    "---\n",
    "<center>\n",
    "\n",
    "<h4>We can generalize this as an equation</h4>\n",
    "\n",
    "*Initialisation* :<br><br>\n",
    "$e_{x-1} = \\lfloor E \\times 10^{-(x-1)}\\rfloor$<br><br>\n",
    "*Recurse* :<br><br>\n",
    "$e_k = \\lfloor (E - \\sum_{i=k}^{i=(x-1)}(e_{i}*10^i))*10^{-k} \\rfloor \\enspace \\forall k \\in [\\![ 0,x-1 ]\\!]$\n",
    "</center>\n",
    "\n",
    "---\n",
    "\n",
    "**Note :** It is important to compute the $e_k$ in descending order to compute the sum !\n",
    "</h4>"
   ]
  },
  {
   "cell_type": "code",
   "execution_count": 2,
   "id": "004405ae",
   "metadata": {},
   "outputs": [],
   "source": [
    "# This method takes in args an integer variable (CpoIntVar)\n",
    "# and converts it into a list of integers.\n",
    "def entier_to_list(Entier,model):\n",
    "    # Le reste du code sert uniquement à mettre en forme la transformation multiplicative sous forme de tableau de chiffres [e0',e1',e2',...,ek']\n",
    "    new_e= [] # Initializing an empty list\n",
    "    premier_chiffre = model.floor(Entier*10**(-(x-1))) # Retrieve the biggest order digit of our integer (for instance in \"891\" we get \"8\")\n",
    "    new_e.append(premier_chiffre)\n",
    "    # k est la puissance de 10 concernée par l'itération\n",
    "    for k in range (int(x-1),0,-1):\n",
    "        Puissance_10 = [10**i for i in range(int(x-1),k-1,-1)]\n",
    "        chiffre = model.floor((Entier - np.dot(new_e,Puissance_10))*10**(-k+1))\n",
    "        new_e.append(chiffre)\n",
    "    new_e.reverse() # Reverse the list so we convert it from [ek, e(k-1), ..., e1, e0] to [e0, e1, e2, ..., ek]\n",
    "    # Note : the reverse is not useful in our case but we can keep it here for later\n",
    "    return(new_e)"
   ]
  },
  {
   "cell_type": "markdown",
   "id": "3754730a",
   "metadata": {},
   "source": [
    "## Module 2 : Zeros replaced by ones in a list"
   ]
  },
  {
   "cell_type": "code",
   "execution_count": 3,
   "id": "d644e143",
   "metadata": {},
   "outputs": [],
   "source": [
    "# This method takes in args an integer variable list (CpoIntVarList) composed of the digits of the integer E\n",
    "def suppression_zeros(E_list,model):\n",
    "    E_sans_zeros = model.integer_var_list(x, 1, 9, \"E_i\") # This integer_var_list is here to store the value of the digits of E\n",
    "    for i in range(x):\n",
    "        model.add(if_then(E_list[i]==0,E_sans_zeros[i]==1)) # If the digit is 0, we replace by 1\n",
    "        model.add(if_then(E_list[i]!=0,E_sans_zeros[i]==E_list[i])) # Else we keep the value of the digit\n",
    "    return(E_sans_zeros)"
   ]
  },
  {
   "cell_type": "markdown",
   "id": "84b559ce",
   "metadata": {},
   "source": [
    "## Module 3 : Product of list elements"
   ]
  },
  {
   "cell_type": "markdown",
   "id": "3e663373",
   "metadata": {},
   "source": [
    "$E_{next} = \\prod_{i=0}^{x-1}(e_i)$"
   ]
  },
  {
   "cell_type": "code",
   "execution_count": 4,
   "id": "48a3eac1",
   "metadata": {},
   "outputs": [],
   "source": [
    "def produit(tableau_entiers):\n",
    "    E_next = np.prod(tableau_entiers)\n",
    "    return(E_next)"
   ]
  },
  {
   "cell_type": "markdown",
   "id": "36c000d3",
   "metadata": {},
   "source": [
    "## Module 4 : Filling S by iterating"
   ]
  },
  {
   "cell_type": "code",
   "execution_count": 5,
   "id": "6b46e9f1",
   "metadata": {},
   "outputs": [],
   "source": [
    "def remplissage_S(E,model):\n",
    "    S = []\n",
    "    E_i = entier_to_list(E,model) # Step 1 : we convert the integer into a list\n",
    "    E_sans_zeros = suppression_zeros(E_i,model) # Step 2 : we replace the zeros in the list by ones\n",
    "    transfo_multi = produit(E_sans_zeros) # Step 3 : we compute the first element of S (initialization) by multiplying the digits of E\n",
    "    S.append(transfo_multi) # Step 4 : we store the first element in an empty list S\n",
    "\n",
    "    for _ in range(Erdös_bound-1): # Step 5 : we iterate the previous 4 operations on the last element stores in the list S (S[-1])\n",
    "        E_sans_zeros = suppression_zeros(entier_to_list(transfo_multi,model),model)\n",
    "        transfo_multi = produit(E_sans_zeros)\n",
    "        S.append(transfo_multi)\n",
    "        \n",
    "    return(S)"
   ]
  },
  {
   "cell_type": "markdown",
   "id": "c82e3da9",
   "metadata": {},
   "source": [
    "## Create problem"
   ]
  },
  {
   "cell_type": "code",
   "execution_count": 6,
   "id": "369c0e5e",
   "metadata": {},
   "outputs": [],
   "source": [
    "def create_problem(x,y):\n",
    "    mdl = CpoModel(name='Persistance Multiplicative')\n",
    "    E = mdl.integer_var(0, 10**x-1, \"E\") # E takes values between 0 and (10**x)-1\n",
    "    S_prime = mdl.integer_var_list(Erdös_bound,0,10**x-1,\"S\") # We introduce a variables list of S because we can't put constaints on functions list\n",
    "\n",
    "    S = remplissage_S(E,mdl) # Functions list\n",
    "\n",
    "    for i in range(Erdös_bound):\n",
    "        mdl.add(S_prime[i]==S[i]) # Variables list\n",
    "\n",
    "    mdl.add(count_different(S_prime)>=y) # Constraints on the variables list\n",
    "    mdl.minimize(E) # Find the smallest solution\n",
    "    return(mdl,E,S_prime)"
   ]
  },
  {
   "cell_type": "markdown",
   "id": "3069c2e2",
   "metadata": {},
   "source": [
    "## Solve problem"
   ]
  },
  {
   "cell_type": "code",
   "execution_count": 7,
   "id": "a0a8e23e",
   "metadata": {},
   "outputs": [],
   "source": [
    "def solve_problem(x,y,method):\n",
    "    mdl,E,S_prime = create_problem(x,y)\n",
    "    # Uncomment to display the first solution found\n",
    "    sol = mdl.solve(TimeLimit= 200, SearchType=method, LogVerbosity='Quiet')\n",
    "    if (sol.get_solve_status()!=\"Infeasible\") : \n",
    "        print (\"The problem is satisfiable\")\n",
    "        # Print the solution\n",
    "        value_of_E = sol[E]\n",
    "        print (\"Value of E is \" ,  value_of_E)\n",
    "        value_of_S = [sol[S_prime[i]] for i in range(Erdös_bound)]\n",
    "        print (\"Value of S is \" ,  value_of_S)\n",
    "        print (\"Length of S =\" , len(value_of_S))\n",
    "        print (\"Persistence =\" , len(set(value_of_S)))\n",
    "    else :\n",
    "        print (\"No solution\")\n",
    "    return None"
   ]
  },
  {
   "cell_type": "markdown",
   "id": "2ed5882a",
   "metadata": {},
   "source": [
    "# Résolution par heuristiques "
   ]
  },
  {
   "cell_type": "code",
   "execution_count": 8,
   "id": "1fd4cd05",
   "metadata": {},
   "outputs": [],
   "source": [
    "res_depth_first = []\n",
    "res_restart = []\n",
    "y_table = []"
   ]
  },
  {
   "cell_type": "code",
   "execution_count": 9,
   "id": "aaa4a1ef",
   "metadata": {
    "scrolled": true
   },
   "outputs": [
    {
     "name": "stdout",
     "output_type": "stream",
     "text": [
      "The problem is satisfiable\n",
      "Value of E is  39\n",
      "Value of S is  [27, 14, 4, 4, 4, 4, 4, 4, 4, 4, 4, 4, 4, 4, 4, 4, 4, 4, 4, 4, 4, 4, 4, 4, 4, 4, 4]\n",
      "Length of S = 27\n",
      "Persistence = 3\n",
      "Solving using DepthFirst took : 0.24 s\n",
      "--------------------------\n",
      "The problem is satisfiable\n",
      "Value of E is  39\n",
      "Value of S is  [27, 14, 4, 4, 4, 4, 4, 4, 4, 4, 4, 4, 4, 4, 4, 4, 4, 4, 4, 4, 4, 4, 4, 4, 4, 4, 4]\n",
      "Length of S = 27\n",
      "Persistence = 3\n",
      "Solving using Restart took : 0.06 s\n"
     ]
    }
   ],
   "source": [
    "x = 2\n",
    "y = 3\n",
    "start = time.time()\n",
    "solve_problem(x,y,'DepthFirst')\n",
    "end = time.time() - start\n",
    "res_depth_first.append(end)\n",
    "print(\"Solving using DepthFirst took :\",np.round(end,2),\"s\")\n",
    "print(\"--------------------------\")\n",
    "start = time.time()\n",
    "solve_problem(x,y,'Restart')\n",
    "end = time.time() - start\n",
    "res_restart.append(end)\n",
    "print(\"Solving using Restart took :\",np.round(end,2),\"s\")\n",
    "y_table.append(y)"
   ]
  },
  {
   "cell_type": "code",
   "execution_count": 10,
   "id": "99ff00ab",
   "metadata": {
    "scrolled": true
   },
   "outputs": [
    {
     "name": "stdout",
     "output_type": "stream",
     "text": [
      "The problem is satisfiable\n",
      "Value of E is  77\n",
      "Value of S is  [49, 36, 18, 8, 8, 8, 8, 8, 8, 8, 8, 8, 8, 8, 8, 8, 8, 8, 8, 8, 8, 8, 8, 8, 8, 8, 8]\n",
      "Length of S = 27\n",
      "Persistence = 4\n",
      "Solving using DepthFirst took : 0.27 s\n",
      "--------------------------\n",
      "The problem is satisfiable\n",
      "Value of E is  77\n",
      "Value of S is  [49, 36, 18, 8, 8, 8, 8, 8, 8, 8, 8, 8, 8, 8, 8, 8, 8, 8, 8, 8, 8, 8, 8, 8, 8, 8, 8]\n",
      "Length of S = 27\n",
      "Persistence = 4\n",
      "Solving using Restart took : 0.07 s\n"
     ]
    }
   ],
   "source": [
    "x = 2\n",
    "y = 4\n",
    "start = time.time()\n",
    "solve_problem(x,y,'DepthFirst')\n",
    "end = time.time() - start\n",
    "res_depth_first.append(end)\n",
    "print(\"Solving using DepthFirst took :\",np.round(end,2),\"s\")\n",
    "print(\"--------------------------\")\n",
    "start = time.time()\n",
    "solve_problem(x,y,'Restart')\n",
    "end = time.time() - start\n",
    "res_restart.append(end)\n",
    "print(\"Solving using Restart took :\",np.round(end,2),\"s\")\n",
    "y_table.append(y)"
   ]
  },
  {
   "cell_type": "code",
   "execution_count": 11,
   "id": "27ccb370",
   "metadata": {
    "scrolled": true
   },
   "outputs": [
    {
     "name": "stdout",
     "output_type": "stream",
     "text": [
      "The problem is satisfiable\n",
      "Value of E is  None\n",
      "Value of S is  [None, None, None, None, None, None, None, None, None, None, None, None, None, None, None, None, None, None, None, None, None, None, None, None, None, None, None]\n",
      "Length of S = 27\n",
      "Persistence = 1\n",
      "Solving using DepthFirst took : 200.02 s\n",
      "--------------------------\n",
      "The problem is satisfiable\n",
      "Value of E is  679\n",
      "Value of S is  [378, 168, 48, 32, 6, 6, 6, 6, 6, 6, 6, 6, 6, 6, 6, 6, 6, 6, 6, 6, 6, 6, 6, 6, 6, 6, 6]\n",
      "Length of S = 27\n",
      "Persistence = 5\n",
      "Solving using Restart took : 2.84 s\n"
     ]
    }
   ],
   "source": [
    "x = 3\n",
    "y = 5\n",
    "start = time.time()\n",
    "solve_problem(x,y,'DepthFirst')\n",
    "end = time.time() - start\n",
    "res_depth_first.append(end)\n",
    "print(\"Solving using DepthFirst took :\",np.round(end,2),\"s\")\n",
    "print(\"--------------------------\")\n",
    "start = time.time()\n",
    "solve_problem(x,y,'Restart')\n",
    "end = time.time() - start\n",
    "res_restart.append(end)\n",
    "print(\"Solving using Restart took :\",np.round(end,2),\"s\")\n",
    "y_table.append(y)"
   ]
  },
  {
   "cell_type": "code",
   "execution_count": 12,
   "id": "046f760d",
   "metadata": {},
   "outputs": [
    {
     "name": "stdout",
     "output_type": "stream",
     "text": [
      "The problem is satisfiable\n",
      "Value of E is  None\n",
      "Value of S is  [None, None, None, None, None, None, None, None, None, None, None, None, None, None, None, None, None, None, None, None, None, None, None, None, None, None, None]\n",
      "Length of S = 27\n",
      "Persistence = 1\n",
      "Solving using DepthFirst took : 200.05 s\n",
      "--------------------------\n",
      "The problem is satisfiable\n",
      "Value of E is  None\n",
      "Value of S is  [None, None, None, None, None, None, None, None, None, None, None, None, None, None, None, None, None, None, None, None, None, None, None, None, None, None, None]\n",
      "Length of S = 27\n",
      "Persistence = 1\n",
      "Solving using Restart took : 200.05 s\n"
     ]
    }
   ],
   "source": [
    "x = 4\n",
    "y = 6\n",
    "start = time.time()\n",
    "solve_problem(x,y,'DepthFirst')\n",
    "end = time.time() - start\n",
    "res_depth_first.append(end)\n",
    "print(\"Solving using DepthFirst took :\",np.round(end,2),\"s\")\n",
    "print(\"--------------------------\")\n",
    "start = time.time()\n",
    "solve_problem(x,y,'Restart')\n",
    "end = time.time() - start\n",
    "res_restart.append(end)\n",
    "print(\"Solving using Restart took :\",np.round(end,2),\"s\")\n",
    "y_table.append(y)"
   ]
  },
  {
   "cell_type": "markdown",
   "id": "ca9a5754",
   "metadata": {},
   "source": [
    "<div>\n",
    "    <img src=\"https://d3i71xaburhd42.cloudfront.net/5a4e38f13e383b6def82388536cd867faf9e124e/4-Table2-1.png\" style=\"width: 35%;\" />\n",
    "</div>"
   ]
  },
  {
   "cell_type": "markdown",
   "id": "d7d52792",
   "metadata": {},
   "source": [
    "### Comparaisons graphique"
   ]
  },
  {
   "cell_type": "code",
   "execution_count": 13,
   "id": "5481a62a",
   "metadata": {},
   "outputs": [
    {
     "data": {
      "image/png": "[encoded data removed]",
      "text/plain": [
       "<Figure size 720x576 with 1 Axes>"
      ]
     },
     "metadata": {
      "needs_background": "light"
     },
     "output_type": "display_data"
    }
   ],
   "source": [
    "plt.figure(figsize=(10,8))\n",
    "plt.plot(y_table, res_depth_first, color='green', marker='o', linestyle='dashed', linewidth=2, markersize=12)\n",
    "plt.plot(y_table, res_restart, color='red', marker='o', linestyle='dashed', linewidth=2, markersize=12)\n",
    "plt.show()"
   ]
  },
  {
   "cell_type": "markdown",
   "id": "c8996054",
   "metadata": {},
   "source": [
    "# Problème de maximisation\n",
    "#### Il suffit de changer le critère de supériorité de la persistence par un critère de maximisation :\n",
    "```R\n",
    "mdl.add(count_different(S_prime) >= y) --> mdl.maximize(count_different(S_prime))\n",
    "```"
   ]
  },
  {
   "cell_type": "code",
   "execution_count": 18,
   "id": "fcc6dec3",
   "metadata": {},
   "outputs": [],
   "source": [
    "def create_maximisation_problem(x):\n",
    "    mdl = CpoModel(name='Persistance Multiplicative Maximisation of Persistence')\n",
    "    E = mdl.integer_var(0, 10**x-1, \"E\") # E takes values between 0 and (10**x)-1\n",
    "    S_prime = mdl.integer_var_list(Erdös_bound,0,10**x-1,\"S\") # We introduce a variables list of S because we can't put constaints on functions list\n",
    "\n",
    "    S = remplissage_S(E,mdl) # Functions list\n",
    "\n",
    "    for i in range(Erdös_bound):\n",
    "        mdl.add(S_prime[i]==S[i]) # Variables list\n",
    "    mdl.maximize(count_different(S_prime))\n",
    "    return(mdl,E,S_prime)\n",
    "\n",
    "def solve_maximisation_problem(x,method):\n",
    "    mdl,E,S_prime = create_maximisation_problem(x)\n",
    "    # Uncomment to display the first solution found\n",
    "    sol = mdl.solve(TimeLimit= 200, SearchType=method, LogVerbosity='Quiet')\n",
    "    if (sol.get_solve_status()!=\"Infeasible\") : \n",
    "        print (\"The problem is satisfiable\")\n",
    "        # Print the solution\n",
    "        value_of_E = sol[E]\n",
    "        print (\"Value of E is \" ,  value_of_E)\n",
    "        value_of_S = [sol[S_prime[i]] for i in range(Erdös_bound)]\n",
    "        print (\"Value of S is \" ,  value_of_S)\n",
    "        print (\"Length of S =\" , len(value_of_S))\n",
    "        print (\"Persistence =\" , len(set(value_of_S)))\n",
    "    else :\n",
    "        print (\"No solution\")\n",
    "    return None"
   ]
  },
  {
   "cell_type": "code",
   "execution_count": 19,
   "id": "d39cd014",
   "metadata": {},
   "outputs": [
    {
     "name": "stdout",
     "output_type": "stream",
     "text": [
      "The problem is satisfiable\n",
      "Value of E is  8876\n",
      "Value of S is  [2688, 768, 336, 54, 20, 2, 2, 2, 2, 2, 2, 2, 2, 2, 2, 2, 2, 2, 2, 2, 2, 2, 2, 2, 2, 2, 2]\n",
      "Length of S = 27\n",
      "Persistence = 6\n",
      "Solving using Restart took : 200.07 s\n"
     ]
    }
   ],
   "source": [
    "x = 4\n",
    "mdl,E,S_prime = create_maximisation_problem(x)\n",
    "start = time.time()\n",
    "solve_maximisation_problem(x,'Restart')\n",
    "end = time.time() - start\n",
    "print(\"Solving using Restart took :\",np.round(end,2),\"s\")"
   ]
  },
  {
   "cell_type": "code",
   "execution_count": 20,
   "id": "d6582161",
   "metadata": {},
   "outputs": [
    {
     "name": "stdout",
     "output_type": "stream",
     "text": [
      "The problem is satisfiable\n",
      "Value of E is  99994\n",
      "Value of S is  [26244, 384, 96, 54, 20, 2, 2, 2, 2, 2, 2, 2, 2, 2, 2, 2, 2, 2, 2, 2, 2, 2, 2, 2, 2, 2, 2]\n",
      "Length of S = 27\n",
      "Persistence = 6\n",
      "Solving using Restart took : 200.06 s\n"
     ]
    }
   ],
   "source": [
    "x = 5\n",
    "mdl,E,S_prime = create_maximisation_problem(x)\n",
    "start = time.time()\n",
    "solve_maximisation_problem(x,'Restart')\n",
    "end = time.time() - start\n",
    "print(\"Solving using Restart took :\",np.round(end,2),\"s\")"
   ]
  },
  {
   "cell_type": "markdown",
   "id": "2b6aafd7",
   "metadata": {},
   "source": [
    "**La limite de temps à 200 secondes est atteinte pour x=4 et x=5 avant que l'algorithme ait pu tester toutes les possibilités. Ainsi, il retourne les dernières solutions connues.  \n",
    "Par exemple pour x=5, le nombre 99994 donne une persistence de 6 alors que le maximum est en réalité 68889 qui donne une persistence de 7.**"
   ]
  }
 ],
 "metadata": {
  "interpreter": {
   "hash": "c3bd2b5ebda6c0d19e9f3b8b00ccf03f150e9e844e8c7ddbb0488fb8f42f4474"
  },
  "kernelspec": {
   "display_name": "Python 3",
   "language": "python",
   "name": "python3"
  },
  "language_info": {
   "codemirror_mode": {
    "name": "ipython",
    "version": 3
   },
   "file_extension": ".py",
   "mimetype": "text/x-python",
   "name": "python",
   "nbconvert_exporter": "python",
   "pygments_lexer": "ipython3",
   "version": "3.8.10"
  }
 },
 "nbformat": 4,
 "nbformat_minor": 5
}
